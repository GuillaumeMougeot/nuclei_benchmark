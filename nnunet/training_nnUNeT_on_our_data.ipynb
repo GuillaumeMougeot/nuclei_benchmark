{
 "cells": [
  {
   "cell_type": "markdown",
   "metadata": {},
   "source": [
    "# Training a segmentation model"
   ]
  },
  {
   "cell_type": "code",
   "execution_count": null,
   "metadata": {},
   "outputs": [],
   "source": [
    "#Preparing data\n",
    "import os\n",
    "import nibabel as nib\n",
    "import pandas as pd\n",
    "from os.path import join\n",
    "import numpy as np\n",
    "from skimage.io import imread\n",
    "import SimpleITK as sitk\n",
    "import matplotlib.pyplot as plt\n",
    "from shutil import copyfile\n",
    "from nnunet.utils import generate_dataset_json"
   ]
  },
  {
   "cell_type": "markdown",
   "metadata": {},
   "source": [
    "## preprocessing"
   ]
  },
  {
   "cell_type": "code",
   "execution_count": null,
   "metadata": {},
   "outputs": [],
   "source": [
    "def load_tiff_convert_to_nifti(img_file, lab_file, img_out_base, anno_out, spacing):\n",
    "    img = imread(img_file)\n",
    "    img_itk = sitk.GetImageFromArray(img.astype(np.float32))\n",
    "    img_itk.SetSpacing(np.array(spacing)[::-1])\n",
    "    sitk.WriteImage(img_itk, join(img_out_base + \"_0000.nii.gz\"))\n",
    "\n",
    "    if lab_file is not None:\n",
    "        l = imread(lab_file)\n",
    "        l = (l / 255).astype(int) # set label to 0 or 1\n",
    "        l[l > 0] = 1\n",
    "        l_itk = sitk.GetImageFromArray(l.astype(np.uint8))\n",
    "        l_itk.SetSpacing(np.array(spacing)[::-1])\n",
    "        sitk.WriteImage(l_itk, join(anno_out+'.nii.gz'))"
   ]
  },
  {
   "cell_type": "code",
   "execution_count": null,
   "metadata": {},
   "outputs": [],
   "source": [
    "idx = 'M1_2'\n",
    "postfix = '_C0.tif'\n",
    "base_name = 'KAKU4-wt--CRWN1-wt--CRWN4-wt_Cot_J13_STD_FIXE_H258_{}'.format(idx)\n",
    "\n",
    "img_folder = 'images_sophie'\n",
    "img_file = img_folder+base_name+postfix\n",
    "\n",
    "msk_folder = 'masks_sophie'\n",
    "msk_file = msk_folder+base_name+postfix\n",
    "\n",
    "img_out_base_folder = 'nnUNet_raw_data_base/nnUNet_raw_data/Task500_Nucleus/imagesTr/'\n",
    "img_test_out_base_folder = 'nnUNet_raw_data_base/nnUNet_raw_data/Task500_Nucleus/imagesTs/'\n",
    "img_out_base = img_out_base_folder+base_name\n",
    "\n",
    "anno_out_folder = 'nnUNet_raw_data_base/nnUNet_raw_data/Task500_Nucleus/labelsTr/'\n",
    "anno_test_out_folder = 'nnUNet_raw_data_base/nnUNet_raw_data/Task500_Nucleus/labelsTs/'\n",
    "anno_out = anno_out_folder+base_name\n",
    "\n",
    "case = 'Nucleus'\n",
    "\n",
    "target_base = 'nnUNet_raw_data_base/nnUNet_raw_data/Task500_Nucleus'\n",
    "\n",
    "spacing=(0.2e-3, 0.1032e-3,0.1032e-3)"
   ]
  },
  {
   "cell_type": "code",
   "execution_count": null,
   "metadata": {},
   "outputs": [],
   "source": [
    "def add_zeros_before(i):\n",
    "    # converts i to '00i'\n",
    "    if i < 10:\n",
    "        return '00{}'.format(i)\n",
    "    elif i < 100:\n",
    "        return '0{}'.format(i)\n",
    "    else:\n",
    "        return '{}'.format(i)"
   ]
  },
  {
   "cell_type": "code",
   "execution_count": null,
   "metadata": {},
   "outputs": [],
   "source": [
    "# converts all images to nifti format\n",
    "import tqdm\n",
    "list_imgs = os.listdir(img_folder)\n",
    "for i in range(len(list_imgs)):\n",
    "#     img = imread(img_folder + list_imgs[i])\n",
    "#     msk = imread(msk_folder + list_imgs[i])\n",
    "    \n",
    "    # input name\n",
    "    base_name = list_imgs[i][:str.rfind(list_imgs[i], '.')]\n",
    "    \n",
    "    img_out_base = img_out_base_folder+case+'_'+add_zeros_before(i)\n",
    "    anno_out = anno_out_folder+case+'_'+add_zeros_before(i)\n",
    "    \n",
    "    \n",
    "    load_tiff_convert_to_nifti(\n",
    "        img_folder + '/' + list_imgs[i], \n",
    "        msk_folder + '/' + list_imgs[i], \n",
    "        img_out_base, \n",
    "        anno_out, \n",
    "        spacing)\n",
    "\n",
    "# plt.subplot(1,2,1)\n",
    "# plt.imshow(img[len(img)//2])\n",
    "\n",
    "# plt.subplot(1,2,2)\n",
    "# plt.imshow(msk[len(msk)//2])"
   ]
  },
  {
   "cell_type": "code",
   "execution_count": null,
   "metadata": {},
   "outputs": [],
   "source": [
    "# move test images to the right folder\n",
    "\n",
    "#'fold_x' à la place de 'hold_out'\n",
    "def get_train_test_df(df):\n",
    "    \"\"\"\n",
    "    Return the train set and the test set\n",
    "    \"\"\"\n",
    "    train_set = np.array(df4[df4['fold_x']==0].iloc[:,0])\n",
    "    test_set = np.array(df4[df4['fold_x']==1].iloc[:,0])\n",
    "    return train_set, test_set\n",
    "\n",
    "df_path = '/home/mougeotg/all/data/nuclei/gred_val_all/'\n",
    "df4 = pd.read_csv('folds_x_sophie.csv')"
   ]
  },
  {
   "cell_type": "code",
   "execution_count": null,
   "metadata": {},
   "outputs": [],
   "source": [
    "train_set, test_set = get_train_test_df(df4)\n",
    "print(\"Size of train set {}\".format(len(train_set)))\n",
    "print(\"Size of test set {}\".format(len(test_set)))"
   ]
  },
  {
   "cell_type": "code",
   "execution_count": null,
   "metadata": {},
   "outputs": [],
   "source": [
    "# copy test files to test folder\n",
    "# removes them from the train folder\n",
    "list_imgs = os.listdir(img_folder)\n",
    "for i in range(len(list_imgs)):\n",
    "    base_name = list_imgs[i]\n",
    "    if base_name in test_set:\n",
    "        img_out_base = case+'_'+add_zeros_before(i)+'_0000.nii.gz'\n",
    "        if os.path.exists(img_out_base_folder+img_out_base):\n",
    "            copyfile(img_out_base_folder+img_out_base, img_test_out_base_folder+img_out_base)\n",
    "            os.remove(img_out_base_folder+img_out_base)\n",
    "            \n",
    "        anno_out_base = case+'_'+add_zeros_before(i)+'.nii.gz'\n",
    "        if os.path.exists(anno_out_folder+anno_out_base):\n",
    "            copyfile(anno_out_folder+anno_out_base, anno_test_out_folder+anno_out_base)\n",
    "            os.remove(anno_out_folder+anno_out_base)\n",
    "            \n",
    "        \n",
    "\n",
    "# for i in range(len(test_set)):\n",
    "#     base_name = list_imgs[i][:str.rfind(test_set[i], '.')]\n",
    "#     img_name = base_name + \n",
    "#     copyfile(img_out_base_folder+test_set[i], img_test_out_base_folder+test_set[i])\n",
    "#     os.remove(img_out_base_folder+test_set[i])"
   ]
  },
  {
   "cell_type": "code",
   "execution_count": null,
   "metadata": {},
   "outputs": [],
   "source": [
    "# dataset.json generator\n",
    "generate_dataset_json(\n",
    "    join(target_base,'dataset.json'),\n",
    "    img_out_base_folder,\n",
    "    img_test_out_base_folder,\n",
    "    modalities=('D'),\n",
    "    labels = {0: 'background', 1: 'nucleus'},\n",
    "    dataset_name=case,\n",
    "    license='MIT'\n",
    ")"
   ]
  },
  {
   "cell_type": "code",
   "execution_count": null,
   "metadata": {},
   "outputs": [],
   "source": [
    "#pre processing\n",
    "os.system('nnUNet_plan_and_preprocess -t 500 --verify_dataset_integrity')"
   ]
  },
  {
   "cell_type": "markdown",
   "metadata": {},
   "source": [
    "## Training"
   ]
  },
  {
   "cell_type": "code",
   "execution_count": null,
   "metadata": {
    "collapsed": true
   },
   "outputs": [],
   "source": [
    "os.system('nnUNet_train 3d_fullres nnUNetTrainer_Experimental Task500_Nucleus 0 --npz')"
   ]
  },
  {
   "cell_type": "code",
   "execution_count": null,
   "metadata": {
    "collapsed": true
   },
   "outputs": [],
   "source": [
    "os.system('nnUNet_train 3d_fullres nnUNetTrainer_Experimental Task500_Nucleus 1 --npz')"
   ]
  },
  {
   "cell_type": "code",
   "execution_count": null,
   "metadata": {
    "collapsed": true
   },
   "outputs": [],
   "source": [
    "os.system('nnUNet_train 3d_fullres nnUNetTrainer_Experimental Task500_Nucleus 2 --npz')"
   ]
  },
  {
   "cell_type": "code",
   "execution_count": null,
   "metadata": {
    "collapsed": true
   },
   "outputs": [],
   "source": [
    "os.system('nnUNet_train 3d_fullres nnUNetTrainer_Experimental Task500_Nucleus 3 --npz')"
   ]
  },
  {
   "cell_type": "code",
   "execution_count": null,
   "metadata": {
    "collapsed": true
   },
   "outputs": [],
   "source": [
    "os.system('nnUNet_train 3d_fullres nnUNetTrainer_Experimental Task500_Nucleus 4 --npz')"
   ]
  },
  {
   "cell_type": "code",
   "execution_count": null,
   "metadata": {},
   "outputs": [],
   "source": [
    "#os.system('nnUNet_find_best_configuration -m 3d_fullres -t 500')"
   ]
  },
  {
   "cell_type": "markdown",
   "metadata": {},
   "source": [
    "## Prediction"
   ]
  },
  {
   "cell_type": "code",
   "execution_count": null,
   "metadata": {},
   "outputs": [],
   "source": [
    "os.system('nnUNet_predict -i $nnUNet_raw_data_base/nnUNet_raw_data/Task500_Nucleus/imagesTs/ -o output_for_fold_0 -t 500 -tr nnUNetTrainer_Experimental -m 3d_fullres -f 0')"
   ]
  },
  {
   "cell_type": "code",
   "execution_count": null,
   "metadata": {},
   "outputs": [],
   "source": [
    "os.system('nnUNet_predict -i $nnUNet_raw_data_base/nnUNet_raw_data/Task500_Nucleus/imagesTs/ -o output_for_fold_1 -t 500 -tr nnUNetTrainer_Experimental -m 3d_fullres -f 1')"
   ]
  },
  {
   "cell_type": "code",
   "execution_count": null,
   "metadata": {},
   "outputs": [],
   "source": [
    "os.system('nnUNet_predict -i $nnUNet_raw_data_base/nnUNet_raw_data/Task500_Nucleus/imagesTs/ -o output_for_fold_2 -t 500 -tr nnUNetTrainer_Experimental -m 3d_fullres -f 2')"
   ]
  },
  {
   "cell_type": "code",
   "execution_count": null,
   "metadata": {
    "scrolled": true
   },
   "outputs": [],
   "source": [
    "os.system('nnUNet_predict -i $nnUNet_raw_data_base/nnUNet_raw_data/Task500_Nucleus/imagesTs/ -o output_for_fold_3 -t 500 -tr nnUNetTrainer_Experimental -m 3d_fullres -f 3')"
   ]
  },
  {
   "cell_type": "code",
   "execution_count": null,
   "metadata": {
    "scrolled": true
   },
   "outputs": [],
   "source": [
    "os.system('nnUNet_predict -i $nnUNet_raw_data_base/nnUNet_raw_data/Task500_Nucleus/imagesTs/ -o output_for_fold_4 -t 500 -tr nnUNetTrainer_Experimental -m 3d_fullres -f 4')"
   ]
  },
  {
   "cell_type": "code",
   "execution_count": null,
   "metadata": {
    "scrolled": true
   },
   "outputs": [],
   "source": [
    "os.system('nnUNet_predict -i $nnUNet_raw_data_base/nnUNet_raw_data/Task500_Nucleus/imagesTs/ -o output_directory -t 500 -tr nnUNetTrainer_Experimental -m 3d_fullres')"
   ]
  },
  {
   "cell_type": "markdown",
   "metadata": {},
   "source": [
    "## postprocessing"
   ]
  },
  {
   "cell_type": "code",
   "execution_count": null,
   "metadata": {},
   "outputs": [],
   "source": [
    "def nii2np_single(img_path):\n",
    "    \"\"\"\n",
    "    convert nifti format (.nii.gz) to numpy array\n",
    "    \"\"\"\n",
    "    img = sitk.ReadImage(img_path)\n",
    "    img_np = sitk.GetArrayFromImage(img)\n",
    "    return img_np"
   ]
  },
  {
   "cell_type": "code",
   "execution_count": null,
   "metadata": {},
   "outputs": [],
   "source": [
    "def nii2tif_single(nii_path, tif_path, resample):\n",
    "    \"\"\"\n",
    "    load a nifti file and save it into a tif\n",
    "    \"\"\"\n",
    "    img = nii2np_single(nii_path)\n",
    "    img = resample(img)\n",
    "    io.imsave(tif_path, img)"
   ]
  },
  {
   "cell_type": "code",
   "execution_count": null,
   "metadata": {},
   "outputs": [],
   "source": [
    "def abs_path(root, listdir_):\n",
    "    \"\"\"\n",
    "    absolute path\n",
    "    add root to the beginning of each path in listdir\n",
    "    \"\"\"\n",
    "    listdir = listdir_.copy()\n",
    "    for i in range(len(listdir)):\n",
    "        listdir[i] = root + '/' + listdir[i]\n",
    "    return listdir\n",
    "\n",
    "def abs_listdir(path):\n",
    "    \"\"\"\n",
    "    absolute path\n",
    "    read all the path of files stored in 'path' \n",
    "    and add root to the beginning of each path in listdir\n",
    "    \"\"\"\n",
    "    return abs_path(path, os.listdir(path))"
   ]
  },
  {
   "cell_type": "code",
   "execution_count": null,
   "metadata": {},
   "outputs": [],
   "source": [
    "def nii2tif_folder(nii_folder, tif_folder, resample):\n",
    "    \"\"\"\n",
    "    load a folder of nifti file and save it into a folder of tif\n",
    "    \"\"\"\n",
    "    list_rel = os.listdir(nii_folder)\n",
    "    list_abs = abs_listdir(nii_folder)\n",
    "    for i, nii_path in enumerate(list_abs):\n",
    "        print('Loading index: {:d}/{}'.format(i+1, len(list_abs)), end='')\n",
    "        print('{:s}\\r'.format(''), end='', flush=True)\n",
    "        \n",
    "        end = list_rel[i][list_rel[i].rfind('.'):]\n",
    "        if end=='.gz': # assert it is a nifti file\n",
    "            tif_path = list_rel[i][:list_rel[i].rfind('.')]\n",
    "            tif_path = tif_path[:tif_path.rfind('.')]\n",
    "            tif_path = os.path.join(tif_folder, tif_path+'.tif')\n",
    "            nii2tif_single(nii_path, tif_path, resample)"
   ]
  },
  {
   "cell_type": "code",
   "execution_count": null,
   "metadata": {},
   "outputs": [],
   "source": [
    "#os.system('pip install torchio')"
   ]
  },
  {
   "cell_type": "code",
   "execution_count": null,
   "metadata": {},
   "outputs": [],
   "source": [
    "import torchio as tio\n",
    "def resample(img, size=(128,128,128), rerange_image=False, rerange_label=False):\n",
    "    transform = tio.transforms.Resize(target_shape=size)\n",
    "    img_tmp = np.expand_dims(img,0)\n",
    "    # for label: rerange \n",
    "#     print(np.max(img_tmp))\n",
    "    img_tmp = transform(img_tmp)\n",
    "    if rerange_label:\n",
    "#         print(type(img_tmp[0][0][0][0]))\n",
    "        img_tmp = (img_tmp > 0).astype(np.uint8)*255\n",
    "        img_tmp = img_tmp.astype(np.uint8)\n",
    "        if len(np.unique(img_tmp[0]))!=2:\n",
    "            print('error')\n",
    "    elif rerange_image:\n",
    "        img_tmp = (img_tmp - img_tmp.min()) / (img_tmp.max() - img_tmp.min())\n",
    "    return img_tmp[0]"
   ]
  },
  {
   "cell_type": "code",
   "execution_count": null,
   "metadata": {},
   "outputs": [],
   "source": [
    "from skimage import io\n",
    "nii2tif_folder('output_directory', 'tiff_files', resample=lambda x: resample(x))"
   ]
  },
  {
   "cell_type": "code",
   "execution_count": null,
   "metadata": {},
   "outputs": [],
   "source": [
    "#Je vais convertir les images de test\n",
    "nii2tif_folder('nnUNet_raw_data_base/nnUNet_raw_data/Task500_Nucleus/imagesTs', 'ImagesTS', resample=lambda x: resample(x))"
   ]
  },
  {
   "cell_type": "code",
   "execution_count": null,
   "metadata": {},
   "outputs": [],
   "source": [
    "images = os.listdir('tiff_files')\n",
    "for image in images :\n",
    "    label   = imread(f\"tiff_files/{image}\")\n",
    "    image   = image[:-4] + '_0000.tif'\n",
    "    img     = imread(f\"ImagesTS/{image}\")\n",
    "    z = img.shape[0] // 2\n",
    "    y = label.shape[0] // 2\n",
    "    plt.subplot(1, 2, 1)    \n",
    "    plt.imshow(img[z])\n",
    "    plt.title('Original image')\n",
    "    plt.subplot(1, 2, 2)\n",
    "    plt.imshow(label[z])\n",
    "    plt.title('Labeled image')"
   ]
  },
  {
   "cell_type": "code",
   "execution_count": null,
   "metadata": {},
   "outputs": [],
   "source": []
  }
 ],
 "metadata": {
  "celltoolbar": "Raw Cell Format",
  "kernelspec": {
   "display_name": "Python 3 (ipykernel)",
   "language": "python",
   "name": "python3"
  },
  "language_info": {
   "codemirror_mode": {
    "name": "ipython",
    "version": 3
   },
   "file_extension": ".py",
   "mimetype": "text/x-python",
   "name": "python",
   "nbconvert_exporter": "python",
   "pygments_lexer": "ipython3",
   "version": "3.8.10"
  }
 },
 "nbformat": 4,
 "nbformat_minor": 2
}
