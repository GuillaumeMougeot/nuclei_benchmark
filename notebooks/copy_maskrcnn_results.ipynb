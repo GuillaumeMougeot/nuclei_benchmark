{
 "cells": [
  {
   "cell_type": "code",
   "execution_count": 7,
   "id": "peaceful-sleeping",
   "metadata": {},
   "outputs": [],
   "source": [
    "import os\n",
    "from shutil import copyfile"
   ]
  },
  {
   "cell_type": "code",
   "execution_count": 4,
   "id": "legendary-reverse",
   "metadata": {},
   "outputs": [],
   "source": [
    "gt_dir = \"../data/masks/manual/\"\n",
    "pred_dir = \"../data/masks/maskrcnn_all/\""
   ]
  },
  {
   "cell_type": "code",
   "execution_count": 5,
   "id": "living-anaheim",
   "metadata": {},
   "outputs": [],
   "source": [
    "gt_filenames = os.listdir(gt_dir)\n",
    "pred_filenames = os.listdir(pred_dir)\n",
    "gt_filenames_full = [os.path.join(gt_dir,s) for s in gt_filenames]\n",
    "pred_filenames_full = [os.path.join(pred_dir,s) for s in gt_filenames]\n"
   ]
  },
  {
   "cell_type": "code",
   "execution_count": 8,
   "id": "virgin-classroom",
   "metadata": {
    "scrolled": true
   },
   "outputs": [],
   "source": [
    "save_dir = '../data/masks/maskrcnn_manual/'\n",
    "for i in range(len(gt_filenames)):\n",
    "    copyfile(pred_dir+gt_filenames[i],save_dir+gt_filenames[i])\n",
    "#     if raw_filename[i] not in pred_filenames_full: \n",
    "#         img_raw = io.imread(RAW_MASKS_DIR+'/'+raw_filename[i])\n",
    "#         io.imsave(PRED_MASKS_DIR+'/'+raw_filename[i],np.zeros_like(img_raw))\n",
    "#         count_zeros += 1"
   ]
  }
 ],
 "metadata": {
  "kernelspec": {
   "display_name": "Python 3",
   "language": "python",
   "name": "python3"
  },
  "language_info": {
   "codemirror_mode": {
    "name": "ipython",
    "version": 3
   },
   "file_extension": ".py",
   "mimetype": "text/x-python",
   "name": "python",
   "nbconvert_exporter": "python",
   "pygments_lexer": "ipython3",
   "version": "3.6.9"
  }
 },
 "nbformat": 4,
 "nbformat_minor": 5
}
