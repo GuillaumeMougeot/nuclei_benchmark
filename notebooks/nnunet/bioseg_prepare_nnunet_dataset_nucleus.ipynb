{
 "cells": [
  {
   "cell_type": "markdown",
   "metadata": {},
   "source": [
    "* convert in nifti\n",
    "* store in the right folder\n",
    "* generate the dataset.json"
   ]
  },
  {
   "cell_type": "code",
   "execution_count": 1,
   "metadata": {},
   "outputs": [],
   "source": [
    "import os\n",
    "import pandas as pd\n",
    "from os.path import join\n",
    "import numpy as np\n",
    "from skimage.io import imread\n",
    "import SimpleITK as sitk\n",
    "import matplotlib.pyplot as plt\n",
    "from shutil import copyfile\n",
    "from nnunet.utils import generate_dataset_json"
   ]
  },
  {
   "cell_type": "code",
   "execution_count": 2,
   "metadata": {},
   "outputs": [],
   "source": [
    "def load_tiff_convert_to_nifti(img_file, lab_file, img_out_base, anno_out, spacing):\n",
    "    img = imread(img_file)\n",
    "    img_itk = sitk.GetImageFromArray(img.astype(np.float32))\n",
    "    img_itk.SetSpacing(np.array(spacing)[::-1])\n",
    "    sitk.WriteImage(img_itk, join(img_out_base + \"_0000.nii.gz\"))\n",
    "\n",
    "    if lab_file is not None:\n",
    "        l = imread(lab_file)\n",
    "        l = (l / 255).astype(int) # set label to 0 or 1\n",
    "        l[l > 0] = 1\n",
    "        l_itk = sitk.GetImageFromArray(l.astype(np.uint8))\n",
    "        l_itk.SetSpacing(np.array(spacing)[::-1])\n",
    "        sitk.WriteImage(l_itk, join(anno_out+'.nii.gz'))"
   ]
  },
  {
   "cell_type": "code",
   "execution_count": 8,
   "metadata": {},
   "outputs": [],
   "source": [
    "idx = 'M1_2'\n",
    "postfix = '_C0.tif'\n",
    "base_name = 'KAKU4-wt--CRWN1-wt--CRWN4-wt_Cot_J13_STD_FIXE_H258_{}'.format(idx)\n",
    "\n",
    "img_folder = '/home/mougeotg/all/data/nuclei/gred_val_all/images_manual/'\n",
    "img_file = img_folder+base_name+postfix\n",
    "\n",
    "msk_folder = '/home/mougeotg/all/data/nuclei/gred_val_all/masks_manual/'\n",
    "msk_file = msk_folder+base_name+postfix\n",
    "\n",
    "img_out_base_folder = '/home/mougeotg/all/data/nuclei/gred_val_all/Task500_Nucleus/imagesTr/'\n",
    "img_test_out_base_folder = '/home/mougeotg/all/data/nuclei/gred_val_all/Task500_Nucleus/imagesTs/'\n",
    "img_out_base = img_out_base_folder+base_name\n",
    "\n",
    "anno_out_folder = '/home/mougeotg/all/data/nuclei/gred_val_all/Task500_Nucleus/labelsTr/'\n",
    "anno_test_out_folder = '/home/mougeotg/all/data/nuclei/gred_val_all/Task500_Nucleus/labelsTs/'\n",
    "anno_out = anno_out_folder+base_name\n",
    "\n",
    "case = 'Nucleus'\n",
    "\n",
    "target_base = '/home/mougeotg/all/data/nuclei/gred_val_all/Task500_Nucleus/'\n",
    "\n",
    "spacing=(0.2e-3, 0.1032e-3,0.1032e-3)\n",
    "\n"
   ]
  },
  {
   "cell_type": "code",
   "execution_count": 4,
   "metadata": {},
   "outputs": [],
   "source": [
    "def add_zeros_before(i):\n",
    "    # converts i to '00i'\n",
    "    if i < 10:\n",
    "        return '00{}'.format(i)\n",
    "    elif i < 100:\n",
    "        return '0{}'.format(i)\n",
    "    else:\n",
    "        return '{}'.format(i)"
   ]
  },
  {
   "cell_type": "code",
   "execution_count": 5,
   "metadata": {},
   "outputs": [],
   "source": [
    "# converts all images to nifti format\n",
    "list_imgs = os.listdir(img_folder)\n",
    "for i in range(len(list_imgs)):\n",
    "#     img = imread(img_folder + list_imgs[i])\n",
    "#     msk = imread(msk_folder + list_imgs[i])\n",
    "    \n",
    "    # input name\n",
    "    base_name = list_imgs[i][:str.rfind(list_imgs[i], '.')]\n",
    "    \n",
    "    img_out_base = img_out_base_folder+case+'_'+add_zeros_before(i)\n",
    "    anno_out = anno_out_folder+case+'_'+add_zeros_before(i)\n",
    "    \n",
    "    \n",
    "    load_tiff_convert_to_nifti(\n",
    "        img_folder + list_imgs[i], \n",
    "        msk_folder + list_imgs[i], \n",
    "        img_out_base, \n",
    "        anno_out, \n",
    "        spacing)\n",
    "\n",
    "# plt.subplot(1,2,1)\n",
    "# plt.imshow(img[len(img)//2])\n",
    "\n",
    "# plt.subplot(1,2,2)\n",
    "# plt.imshow(msk[len(msk)//2])"
   ]
  },
  {
   "cell_type": "code",
   "execution_count": 6,
   "metadata": {},
   "outputs": [
    {
     "name": "stdout",
     "output_type": "stream",
     "text": [
      "Size of train set 372\n",
      "Size of test set 41\n"
     ]
    }
   ],
   "source": [
    "# move test images to the right folder\n",
    "def get_train_test_df(df):\n",
    "    \"\"\"\n",
    "    Return the train set and the test set\n",
    "    \"\"\"\n",
    "    train_set = np.array(df4[df4['hold_out']==0].iloc[:,0])\n",
    "    test_set = np.array(df4[df4['hold_out']==1].iloc[:,0])\n",
    "    return train_set, test_set\n",
    "\n",
    "df_path = '/home/mougeotg/all/data/nuclei/gred_val_all/'\n",
    "df4 = pd.read_csv(df_path+'folds.csv')\n",
    "\n",
    "train_set, test_set = get_train_test_df(df4)\n",
    "print(\"Size of train set {}\".format(len(train_set)))\n",
    "print(\"Size of test set {}\".format(len(test_set)))"
   ]
  },
  {
   "cell_type": "code",
   "execution_count": 9,
   "metadata": {},
   "outputs": [],
   "source": [
    "# copy test files to test folder\n",
    "# removes them from the train folder\n",
    "list_imgs = os.listdir(img_folder)\n",
    "for i in range(len(list_imgs)):\n",
    "    base_name = list_imgs[i]\n",
    "    if base_name in test_set:\n",
    "        img_out_base = case+'_'+add_zeros_before(i)+'_0000.nii.gz'\n",
    "        if os.path.exists(img_out_base_folder+img_out_base):\n",
    "            copyfile(img_out_base_folder+img_out_base, img_test_out_base_folder+img_out_base)\n",
    "            os.remove(img_out_base_folder+img_out_base)\n",
    "            \n",
    "        anno_out_base = case+'_'+add_zeros_before(i)+'.nii.gz'\n",
    "        if os.path.exists(anno_out_folder+anno_out_base):\n",
    "            copyfile(anno_out_folder+anno_out_base, anno_test_out_folder+anno_out_base)\n",
    "            os.remove(anno_out_folder+anno_out_base)\n",
    "            \n",
    "        \n",
    "\n",
    "# for i in range(len(test_set)):\n",
    "#     base_name = list_imgs[i][:str.rfind(test_set[i], '.')]\n",
    "#     img_name = base_name + \n",
    "#     copyfile(img_out_base_folder+test_set[i], img_test_out_base_folder+test_set[i])\n",
    "#     os.remove(img_out_base_folder+test_set[i])"
   ]
  },
  {
   "cell_type": "code",
   "execution_count": 75,
   "metadata": {},
   "outputs": [],
   "source": [
    "# dataset.json generator\n",
    "generate_dataset_json(\n",
    "    join(target_base,'dataset.json'),\n",
    "    img_out_base_folder,\n",
    "    img_test_out_base_folder,\n",
    "    modalities=('D'),\n",
    "    labels = {0: 'background', 1: 'nucleus'},\n",
    "    dataset_name=case,\n",
    "    license='MIT'\n",
    ")"
   ]
  },
  {
   "cell_type": "code",
   "execution_count": 74,
   "metadata": {},
   "outputs": [],
   "source": [
    "# copy test files to test folder\n",
    "# removes them from the train folder\n",
    "list_imgs = os.listdir(img_folder)\n",
    "for i in range(len(list_imgs)):\n",
    "    base_name = list_imgs[i]\n",
    "    if base_name in test_set:\n",
    "        img_out_base = case+'_'+add_zeros_before(i)+'_0000.nii.gz'\n",
    "        if os.path.exists(img_out_base_folder+img_out_base):\n",
    "            copyfile(img_out_base_folder+img_out_base, img_test_out_base_folder+img_out_base)\n",
    "        if os.path.exists(img_out_base_folder+img_out_base):\n",
    "            os.remove(img_out_base_folder+img_out_base)\n",
    "            \n",
    "        anno_out_base = case+'_'+add_zeros_before(i)+'.nii.gz'\n",
    "        if os.path.exists(anno_out_folder+anno_out_base):\n",
    "            os.remove(anno_out_folder+anno_out_base)\n",
    "            \n",
    "        \n",
    "\n",
    "# for i in range(len(test_set)):\n",
    "#     base_name = list_imgs[i][:str.rfind(test_set[i], '.')]\n",
    "#     img_name = base_name + \n",
    "#     copyfile(img_out_base_folder+test_set[i], img_test_out_base_folder+test_set[i])\n",
    "#     os.remove(img_out_base_folder+test_set[i])"
   ]
  }
 ],
 "metadata": {
  "kernelspec": {
   "display_name": "Python 3 (ipykernel)",
   "language": "python",
   "name": "python3"
  },
  "language_info": {
   "codemirror_mode": {
    "name": "ipython",
    "version": 3
   },
   "file_extension": ".py",
   "mimetype": "text/x-python",
   "name": "python",
   "nbconvert_exporter": "python",
   "pygments_lexer": "ipython3",
   "version": "3.8.12"
  }
 },
 "nbformat": 4,
 "nbformat_minor": 4
}
