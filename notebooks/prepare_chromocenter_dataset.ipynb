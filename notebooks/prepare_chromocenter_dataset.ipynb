{
 "cells": [
  {
   "cell_type": "code",
   "execution_count": 17,
   "metadata": {},
   "outputs": [],
   "source": [
    "import os\n",
    "import torchio as tio\n",
    "import numpy as np\n",
    "from tifffile import imread\n",
    "from tifffile import imsave"
   ]
  },
  {
   "cell_type": "code",
   "execution_count": 18,
   "metadata": {},
   "outputs": [],
   "source": [
    "def transform_img_msk(\n",
    "    idx,\n",
    "    imgs,\n",
    "    img_dir,\n",
    "    msk_dir,\n",
    "    transform,\n",
    "):\n",
    "    img_fname = imgs[idx]\n",
    "    img_path = os.path.join(img_dir, img_fname)\n",
    "    msk_path = os.path.join(msk_dir, img_fname)\n",
    "    print(img_path)\n",
    "    # load mask and image\n",
    "    img = imread(img_path)\n",
    "    msk = imread(msk_path)\n",
    "    assert img.shape == msk.shape, '[error] expected img and msk sizes must match, img {}, msk {}'.format(img.shape, msk.shape)\n",
    "\n",
    "    # change data type from np.uint16 to np.int16\n",
    "    img = img.astype(np.float32)\n",
    "    msk = msk.astype(np.float32)\n",
    "\n",
    "    # crop if training\n",
    "    # if self.train: # TODO: remove resize during inference\n",
    "    # img, msk = self.resize(img, msk)\n",
    "\n",
    "    # add channel\n",
    "    img = np.expand_dims(img, 0)\n",
    "    msk = np.expand_dims(msk, 0)\n",
    "\n",
    "    # transform with TorchIO\n",
    "    tmp_sub = transform(tio.Subject(img=tio.ScalarImage(tensor=img), msk=tio.LabelMap(tensor=msk)))\n",
    "    img, msk = tmp_sub.img.numpy()[0].astype(np.uint16), tmp_sub.msk.numpy()[0].astype(np.uint16)\n",
    "\n",
    "    return img, msk\n",
    "\n",
    "\n"
   ]
  },
  {
   "cell_type": "code",
   "execution_count": 19,
   "metadata": {},
   "outputs": [
    {
     "name": "stdout",
     "output_type": "stream",
     "text": [
      "/home/mezquitap/chomocentres/images/KAKU4-wt--CRWN1-wt--CRWN4-wt_Cot_J13_STD_FIXE_H258_W1_0_C0.tif\n",
      "/home/mezquitap/chomocentres/images/KAKU4-wt--CRWN1-wt--CRWN4-wt_Cot_J13_STD_FIXE_H258_T1_28_C0.tif\n",
      "/home/mezquitap/chomocentres/images/KAKU4-wt--CRWN1-wt--CRWN4-wt_Cot_J13_STD_FIXE_H258_T1_9_C0.tif\n",
      "/home/mezquitap/chomocentres/images/KAKU4-wt--CRWN1-wt--CRWN4-wt_Cot_J13_STD_FIXE_H258_R1_12_C0.tif\n",
      "/home/mezquitap/chomocentres/images/KAKU4-wt--CRWN1-wt--CRWN4-wt_Cot_J13_STD_FIXE_H258_W1_25_C0.tif\n",
      "/home/mezquitap/chomocentres/images/20220122_1581412312099_Ath_Col0--HON4-wt_Cot_D13_STD_FIXE_H258_I1_w11 DAPI SIM_00.tif\n",
      "/home/mezquitap/chomocentres/images/KAKU4-wt--CRWN1-wt--CRWN4-wt_Cot_J13_STD_FIXE_H258_X1_6_C0.tif\n",
      "/home/mezquitap/chomocentres/images/KAKU4-wt--CRWN1-wt--CRWN4-wt_Cot_J13_STD_FIXE_H258_W1_2_C0.tif\n",
      "/home/mezquitap/chomocentres/images/20200204_1581418010044_Ath_Col0--KAKU4-wt_Cot_D13_STD_FIXE_H258_A3_w11 DAPI SIM variable_2_C0.tif\n",
      "/home/mezquitap/chomocentres/images/KAKU4-wt--CRWN1-wt--CRWN4-wt_Cot_J13_STD_FIXE_H258_M3_9_C0.tif\n",
      "/home/mezquitap/chomocentres/images/KAKU4-wt--CRWN1-wt--CRWN4-wt_Cot_J13_STD_FIXE_H258_X1_3_C0.tif\n",
      "/home/mezquitap/chomocentres/images/KAKU4-wt--CRWN1-wt--CRWN4-wt_Cot_J13_STD_FIXE_H258_X2_1_C0.tif\n",
      "/home/mezquitap/chomocentres/images/20220122_1581413791058_Ath_Col0--HON4-wt_Cot_D13_STD_FIXE_H258_J2_w11 DAPI SIM_01.tif\n",
      "/home/mezquitap/chomocentres/images/20200204_1581434076059_Ath_Col0--KAKU4-wt_Cot_D13_STD_FIXE_H258_G3_w11 DAPI SIM variable_14_C0.tif\n",
      "/home/mezquitap/chomocentres/images/20200204_1581463785042_Ath_Col0--KAKU4-wt_Cot_D13_STD_FIXE_H258_H1_w11 DAPI SIM variable_1_C0.tif\n",
      "/home/mezquitap/chomocentres/images/KAKU4-wt--CRWN1-wt--CRWN4-wt_Cot_J13_STD_FIXE_H258_M2_1_C0.tif\n",
      "/home/mezquitap/chomocentres/images/KAKU4-wt--CRWN1-wt--CRWN4-wt_Cot_J13_STD_FIXE_H258_R1_24_C0.tif\n",
      "/home/mezquitap/chomocentres/images/20200204_1581432857054_Ath_Col0--KAKU4-wt_Cot_D13_STD_FIXE_H258_F2_w11 DAPI SIM variable_2_C0.tif\n",
      "/home/mezquitap/chomocentres/images/20170105_Ath_Col0--FAS2-wt_Cot_D5_STD_FIXE_H258_5_30_C0.tif\n",
      "/home/mezquitap/chomocentres/images/KAKU4-wt--CRWN1-wt--CRWN4-wt_Cot_J13_STD_FIXE_H258_X1_4_C0.tif\n",
      "/home/mezquitap/chomocentres/images/20200122_1579736648063_Ath_HON4-1_Cot_D13_STD_FIXE_H258_D2_w11 DAPI SIM variable_00.tif\n",
      "/home/mezquitap/chomocentres/images/KAKU4-wt--CRWN1-wt--CRWN4-wt_Cot_J13_STD_FIXE_H258_W1_10_C0.tif\n"
     ]
    }
   ],
   "source": [
    "# define transform\n",
    "spacing = (1.0, 1.0, 0.5159651630825821)\n",
    "spacing = np.flip(spacing) # CAREFUL: spacing must be in ZYX and not in XYZ!\n",
    "\n",
    "crop_shape = (128,128,128)\n",
    "\n",
    "transform = tio.Compose([\n",
    "            tio.Resample(spacing),\n",
    "            tio.CropOrPad(crop_shape)\n",
    "])\n",
    "\n",
    "# define list of images\n",
    "#img_dir = '../data/nucleus/images_sophie'\n",
    "#msk_dir = '../data/nucleus/masks_sophie'\n",
    "img_dir = '/home/mezquitap/chomocentres/images'\n",
    "msk_dir = '/home/mezquitap/chomocentres/chromocenter_masks'\n",
    "imgs = os.listdir(img_dir)\n",
    "\n",
    "\n",
    "for idx in range(len(imgs)):\n",
    "    img_resampled, msk_resampled = transform_img_msk(\n",
    "        idx=idx,\n",
    "        imgs=imgs,\n",
    "        img_dir=img_dir,\n",
    "        msk_dir=msk_dir,\n",
    "        transform=transform,\n",
    "    )\n",
    "    # save the images\n",
    "    imsave('/home/mezquitap/chomocentres/reshape/img/'+imgs[idx], img_resampled)\n",
    "    imsave('/home/mezquitap/chomocentres/reshape/mask/'+imgs[idx], msk_resampled)  \n",
    "    \n",
    "    # TODO:\n",
    "    \n",
    "    "
   ]
  },
  {
   "cell_type": "code",
   "execution_count": null,
   "metadata": {},
   "outputs": [],
   "source": []
  }
 ],
 "metadata": {
  "kernelspec": {
   "display_name": "Python 3",
   "language": "python",
   "name": "python3"
  },
  "language_info": {
   "codemirror_mode": {
    "name": "ipython",
    "version": 3
   },
   "file_extension": ".py",
   "mimetype": "text/x-python",
   "name": "python",
   "nbconvert_exporter": "python",
   "pygments_lexer": "ipython3",
   "version": "3.7.3"
  }
 },
 "nbformat": 4,
 "nbformat_minor": 5
}
