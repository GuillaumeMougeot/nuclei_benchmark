{
 "cells": [
  {
   "cell_type": "code",
   "execution_count": 1,
   "id": "272c1e16",
   "metadata": {},
   "outputs": [],
   "source": [
    "import os\n",
    "import torchio as tio\n",
    "import numpy as np"
   ]
  },
  {
   "cell_type": "code",
   "execution_count": null,
   "id": "60ab6a26",
   "metadata": {},
   "outputs": [],
   "source": [
    "def transform_img_msk(\n",
    "    idx,\n",
    "    imgs,\n",
    "    img_dir,\n",
    "    msk_dir,\n",
    "    transform,\n",
    "):\n",
    "    img_fname = imgs[idx]\n",
    "    img_path = os.path.join(img_dir, img_fname)\n",
    "    msk_path = os.path.join(msk_dir, img_fname)\n",
    "\n",
    "    # load mask and image\n",
    "    img = imread(img_path)\n",
    "    msk = imread(msk_path)\n",
    "    assert img.shape == msk.shape, '[error] expected img and msk sizes must match, img {}, msk {}'.format(img.shape, msk.shape)\n",
    "\n",
    "    # change data type from np.uint16 to np.int16\n",
    "    img = img.astype(np.float32)\n",
    "    msk = msk.astype(np.float32)\n",
    "\n",
    "    # crop if training\n",
    "    # if self.train: # TODO: remove resize during inference\n",
    "    # img, msk = self.resize(img, msk)\n",
    "\n",
    "    # add channel\n",
    "    img = np.expand_dims(img, 0)\n",
    "    msk = np.expand_dims(msk, 0)\n",
    "\n",
    "    # transform with TorchIO\n",
    "    tmp_sub = transform(tio.Subject(img=tio.ScalarImage(tensor=img), msk=tio.LabelMap(tensor=msk)))\n",
    "    img, msk = tmp_sub.img.numpy()[0].astype(np.uint16), tmp_sub.msk.numpy()[0].astype(np.uint16)\n",
    "\n",
    "    return img, msk\n",
    "\n",
    "\n"
   ]
  },
  {
   "cell_type": "code",
   "execution_count": null,
   "id": "6b7cb53f",
   "metadata": {},
   "outputs": [],
   "source": [
    "# define transform\n",
    "spacing = (1.0, 1.0, 0.5159651630825821)\n",
    "spacing = np.flip(spacing) # CAREFUL: spacing must be in ZYX and not in XYZ!\n",
    "\n",
    "crop_shape = (128,128,128)\n",
    "\n",
    "transform = tio.Compose([\n",
    "            tio.Resample(spacing),\n",
    "            tio.CropOrPad(crop_shape)\n",
    "])\n",
    "\n",
    "# define list of images\n",
    "img_dir = '../data/nucleus/images_sophie'\n",
    "msk_dir = '../data/nucleus/masks_sophie'\n",
    "imgs = os.listdir(img_dir)\n",
    "\n",
    "for idx in range(len(imgs)):\n",
    "    img_resampled, msk_resampled = transform_img_msk(\n",
    "        idx=idx,\n",
    "        imgs=imgs,\n",
    "        img_dir=img_dir,\n",
    "        msk_dir=msk_dir,\n",
    "        transform=transform,\n",
    "    )\n",
    "    \n",
    "    # save the images \n",
    "    # TODO:\n",
    "    \n",
    "    "
   ]
  }
 ],
 "metadata": {
  "kernelspec": {
   "display_name": "Python 3 (ipykernel)",
   "language": "python",
   "name": "python3"
  },
  "language_info": {
   "codemirror_mode": {
    "name": "ipython",
    "version": 3
   },
   "file_extension": ".py",
   "mimetype": "text/x-python",
   "name": "python",
   "nbconvert_exporter": "python",
   "pygments_lexer": "ipython3",
   "version": "3.8.12"
  }
 },
 "nbformat": 4,
 "nbformat_minor": 5
}
