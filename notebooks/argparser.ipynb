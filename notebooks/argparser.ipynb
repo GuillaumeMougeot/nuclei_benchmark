{
 "cells": [
  {
   "cell_type": "code",
   "execution_count": null,
   "id": "a11faf06",
   "metadata": {},
   "outputs": [],
   "source": [
    "# parser\n",
    "import argparse\n",
    "parser = argparse.ArgumentParser(description=\"Main training file.\")\n",
    "parser.add_argument(\"-n\", \"--name\", type=str, default=\"single\",\n",
    "    help=\"Name of the tested method. Valid names: {}\".format(valid_names.keys()))\n",
    "parser.add_argument(\"-b\", \"--bui_dir\", type=str,\n",
    "    help=\"Path of the builder directory\")\n",
    "parser.add_argument(\"-i\", \"--dir_in\", type=str,\n",
    "    help=\"Path to the input image directory\")\n",
    "parser.add_argument(\"-o\", \"--dir_out\", type=str,\n",
    "    help=\"Path to the output prediction directory\")\n",
    "args = parser.parse_args()\n",
    "\n",
    "\n",
    "print(args.name)"
   ]
  }
 ],
 "metadata": {
  "kernelspec": {
   "display_name": "Python 3 (ipykernel)",
   "language": "python",
   "name": "python3"
  },
  "language_info": {
   "codemirror_mode": {
    "name": "ipython",
    "version": 3
   },
   "file_extension": ".py",
   "mimetype": "text/x-python",
   "name": "python",
   "nbconvert_exporter": "python",
   "pygments_lexer": "ipython3",
   "version": "3.8.13"
  }
 },
 "nbformat": 4,
 "nbformat_minor": 5
}
