{
 "cells": [
  {
   "cell_type": "markdown",
   "id": "median-covering",
   "metadata": {},
   "source": [
    "select only the images that were manually segmented"
   ]
  },
  {
   "cell_type": "code",
   "execution_count": 7,
   "id": "serious-deployment",
   "metadata": {},
   "outputs": [],
   "source": [
    "import os\n",
    "from shutil import copyfile"
   ]
  },
  {
   "cell_type": "code",
   "execution_count": 9,
   "id": "quality-colorado",
   "metadata": {},
   "outputs": [],
   "source": [
    "images_all_path = '../data/images/all/'\n",
    "masks_manual_path = '../data/masks/manual/'\n",
    "images_manual_path = '../data/images/manual/'"
   ]
  },
  {
   "cell_type": "code",
   "execution_count": 8,
   "id": "sonic-command",
   "metadata": {},
   "outputs": [],
   "source": [
    "filename_all = os.listdir(images_all_path)\n",
    "filename_manual = os.listdir(masks_manual_path)"
   ]
  },
  {
   "cell_type": "code",
   "execution_count": 10,
   "id": "specified-rolling",
   "metadata": {},
   "outputs": [],
   "source": [
    "for i in range(len(filename_manual)):\n",
    "    copyfile(images_all_path+filename_manual[i], images_manual_path+filename_manual[i])"
   ]
  },
  {
   "cell_type": "code",
   "execution_count": 12,
   "id": "liberal-discretion",
   "metadata": {},
   "outputs": [
    {
     "data": {
      "text/plain": [
       "413"
      ]
     },
     "execution_count": 12,
     "metadata": {},
     "output_type": "execute_result"
    }
   ],
   "source": [
    "filename_img_manual = os.listdir(images_manual_path)\n",
    "len(filename_img_manual)"
   ]
  }
 ],
 "metadata": {
  "kernelspec": {
   "display_name": "Python 3",
   "language": "python",
   "name": "python3"
  },
  "language_info": {
   "codemirror_mode": {
    "name": "ipython",
    "version": 3
   },
   "file_extension": ".py",
   "mimetype": "text/x-python",
   "name": "python",
   "nbconvert_exporter": "python",
   "pygments_lexer": "ipython3",
   "version": "3.6.9"
  }
 },
 "nbformat": 4,
 "nbformat_minor": 5
}
