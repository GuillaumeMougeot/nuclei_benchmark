{
 "cells": [
  {
   "cell_type": "code",
   "execution_count": 41,
   "id": "76daf9e6",
   "metadata": {},
   "outputs": [],
   "source": [
    "#WINDOWS PATH\n",
    "path_raw = '..\\\\..\\\\Dataset\\\\dataset\\\\images_sophie'\n",
    "path_my = '..\\\\..\\\\Dataset\\\\dataset\\\\masks_sophie'\n",
    "path_mask_cellpose = '..\\\\..\\\\Dataset\\\\dataset\\\\masks_resultat'\n",
    "\n",
    "\n",
    "path_so = 'C:\\\\Users\\\\mezquitap\\\\Documents\\\\Dataset\\\\dataset\\\\masks_sophie'\n",
    "\n",
    "#UNIX PATH\n",
    "#path_raw = '../data/nucleus/images_manual' #image source\n",
    "#path_my = '../data/nucleus/masks_manual' #mask source\n",
    "#path_so = '/home/gumougeot/all/data/3d_nucleus/all_manual/masks_sophie'\n",
    "path_njgift = '/home/gumougeot/all/data/OMERO_FSU/#3d NUCLEAR MORPHOLOGY - SEGMENTED/GIFT' #mask ai\n",
    "path_njotsu = '/home/gumougeot/all/data/OMERO_FSU/#3d NUCLEAR MORPHOLOGY - SEGMENTED/OTSU'"
   ]
  },
  {
   "cell_type": "code",
   "execution_count": 23,
   "id": "831e0b8e",
   "metadata": {},
   "outputs": [
    {
     "name": "stdout",
     "output_type": "stream",
     "text": [
      "napari-env\n"
     ]
    }
   ],
   "source": [
    "import os\n",
    "print(os.environ['CONDA_DEFAULT_ENV'])"
   ]
  },
  {
   "cell_type": "code",
   "execution_count": 24,
   "id": "b46b9058",
   "metadata": {},
   "outputs": [],
   "source": [
    "import os\n",
    "import skimage as sk\n",
    "import matplotlib.pyplot as plt\n",
    "from skimage.io import imread\n",
    "from skimage.morphology import erosion, dilation\n",
    "from skimage.measure import find_contours\n",
    "import numpy as np\n",
    "import napari\n",
    "import tifffile as tiff\n",
    "import torchio as tio"
   ]
  },
  {
   "cell_type": "code",
   "execution_count": 25,
   "id": "9ba620f9",
   "metadata": {},
   "outputs": [],
   "source": [
    "def abs_path(root, listdir_):\n",
    "    listdir = listdir_.copy()\n",
    "    for i in range(len(listdir)):\n",
    "        listdir[i] = root + '/' + listdir[i]\n",
    "    return listdir\n",
    "\n",
    "def abs_listdir(path):\n",
    "    return abs_path(path, os.listdir(path))\n",
    "\n",
    "def remove_begin(pattern, listdir_):\n",
    "    listdir = listdir_.copy()\n",
    "    for i in range(len(listdir)):\n",
    "        listdir[i] = listdir[i][str.find(listdir[i],pattern):]\n",
    "    return listdir\n",
    "\n",
    "def plot3d(img_list, dpi=300):\n",
    "    plt.figure(dpi=dpi)\n",
    "    for i in range(len(img_list)):\n",
    "        img = img_list[i]\n",
    "        idx = len(img)//2\n",
    "        plt.subplot(1,len(img_list),i+1)\n",
    "        plt.imshow(img[idx])\n",
    "    plt.show()"
   ]
  },
  {
   "cell_type": "code",
   "execution_count": 42,
   "id": "93ae1c2c",
   "metadata": {},
   "outputs": [
    {
     "name": "stdout",
     "output_type": "stream",
     "text": [
      "number of images  93\n"
     ]
    }
   ],
   "source": [
    "# start with sophie's\n",
    "fname_so = os.listdir(path_so)\n",
    "\n",
    "abs_so = abs_path(path_so, fname_so)\n",
    "print(\"number of images \", len(abs_so))\n",
    "\n",
    "# need to remove the beginning of the filenames\n",
    "fname_so_no_begin = fname_so.copy()\n",
    "abs_my = abs_path(path_my, fname_so_no_begin)\n",
    "abs_raw = abs_path(path_raw, fname_so_no_begin)\n",
    "abs_njgift = abs_path(path_njgift, fname_so_no_begin)\n",
    "abs_njotsu = abs_path(path_njotsu, fname_so_no_begin)\n",
    "\n",
    "abs_mask_cellpose = abs_path(path_mask_cellpose, fname_so_no_begin)\n",
    "\n",
    "# the list below contains all the path in the following order:\n",
    "# 1. sophie\n",
    "# 2. mine\n",
    "# 3. gift\n",
    "# 4. otsu\n",
    "# 5. the original image\n",
    "#list_abs = [abs_so, abs_my, abs_njgift, abs_njotsu, abs_raw]\n",
    "\n",
    "\n",
    "#1. original masks\n",
    "#2. cellpose ai generated masks\n",
    "#3. original images\n",
    "list_abs = [abs_my, abs_mask_cellpose ,abs_raw]\n"
   ]
  },
  {
   "cell_type": "code",
   "execution_count": 43,
   "id": "c42dab46",
   "metadata": {},
   "outputs": [
    {
     "data": {
      "text/plain": [
       "255"
      ]
     },
     "execution_count": 43,
     "metadata": {},
     "output_type": "execute_result"
    }
   ],
   "source": [
    "imread(abs_my[0]).max()"
   ]
  },
  {
   "cell_type": "code",
   "execution_count": 44,
   "id": "6797c9b6",
   "metadata": {},
   "outputs": [
    {
     "data": {
      "image/png": "[encoded data removed]",
      "text/plain": [
       "<Figure size 432x288 with 2 Axes>"
      ]
     },
     "metadata": {
      "needs_background": "light"
     },
     "output_type": "display_data"
    }
   ],
   "source": [
    "# plot the images\n",
    "idx = 0\n",
    "for i in range(len(list_abs)-1):\n",
    "    path_img = list_abs[i][idx]\n",
    "    img = imread(path_img)\n",
    "    img = (img > 0).astype(int)\n",
    "    img = img[len(img)//2]\n",
    "    plt.subplot(1,4,i+1)\n",
    "    plt.imshow(img)"
   ]
  },
  {
   "cell_type": "code",
   "execution_count": 29,
   "id": "a59e7521",
   "metadata": {},
   "outputs": [],
   "source": [
    "# forms quadruplets\n",
    "\n",
    "# list_abs_ = []\n",
    "# for i in range(len(abs_so)):\n",
    "#     list_abs_ += [[elmt[i] for elmt in list_abs]]\n",
    "# print(len(list_abs_))\n",
    "# list_abs_ = np.array(list_abs).T\n",
    "# list_abs_.shape"
   ]
  },
  {
   "cell_type": "code",
   "execution_count": 30,
   "id": "6da83133",
   "metadata": {},
   "outputs": [],
   "source": [
    "# metric definition\n",
    "def iou(inputs, targets, smooth=1):\n",
    "    inter = (inputs & targets).sum()\n",
    "    union = (inputs | targets).sum()\n",
    "    return (inter+smooth)/(union+smooth)\n",
    "\n",
    "def bce(inputs, targets, smooth=1e-7):\n",
    "    y_pred = np.reshape(inputs, -1)\n",
    "    y_true = np.reshape(targets, -1)\n",
    "    y_pred = np.clip(y_pred, smooth, 1 - smooth)\n",
    "    term_0 = (1-y_true) * np.log(1-y_pred + smooth)\n",
    "    term_1 = y_true * np.log(y_pred + smooth)\n",
    "    return -np.mean(term_0+term_1, axis=0)"
   ]
  },
  {
   "cell_type": "code",
   "execution_count": 31,
   "id": "e31a9308",
   "metadata": {},
   "outputs": [],
   "source": [
    "def iou_border_erosion(inputs, targets, smooth=1):\n",
    "    bor_in = erosion(inputs) ^ inputs\n",
    "    bor_tg = erosion(targets) ^ targets\n",
    "    return iou(bor_in, bor_tg)\n",
    "\n",
    "def iou_border_dilation(inputs, targets, smooth=1):\n",
    "    bor_in = dilation(inputs) ^ inputs\n",
    "    bor_tg = dilation(targets) ^ targets\n",
    "    return iou(bor_in, bor_tg)\n",
    "\n",
    "def iou_in_and_border(inputs, targets, smooth=1):\n",
    "    bor_in = erosion(inputs) ^ inputs\n",
    "    bor_tg = erosion(targets) ^ targets\n",
    "    all_in = np.stack([inputs, bor_in], axis=0)\n",
    "    all_tg = np.stack([targets, bor_tg], axis=0)\n",
    "    return iou(all_in,all_tg)\n",
    "\n",
    "def iou_border_thick(inputs, targets, smooth=1):\n",
    "    bor_in = erosion(inputs) ^ dilation(inputs)\n",
    "    bor_tg = erosion(targets) ^ dilation(targets)\n",
    "    return iou(bor_in, bor_tg)"
   ]
  },
  {
   "cell_type": "code",
   "execution_count": 32,
   "id": "bd40f9e8",
   "metadata": {
    "scrolled": false
   },
   "outputs": [],
   "source": [
    "# test\n",
    "# m = np.array([[0,1,0.5],\n",
    "#               [1,0,1],\n",
    "#               [1,1,0]])\n",
    "# print(iou(m,m))\n",
    "\n",
    "# sophie vs mine on one image\n",
    "# idx = 0\n",
    "# path_vs = list_abs_[idx]\n",
    "# img1 = imread(path_vs[0])\n",
    "# img1 = (img1 > 0).astype(int)\n",
    "# img2 = imread(path_vs[3])\n",
    "# img2 = (img2 > 0).astype(int)\n",
    "# print(iou(img1,img2,smooth=1))\n",
    "\n",
    "# plot3d([img1,img2],dpi=100)\n",
    "\n",
    "# intersection = (img1 & img2)\n",
    "# bor_in = erosion(img1) ^ img1\n",
    "# bor_tg = erosion(img2) ^ img2\n",
    "# bor_in = erosion(img1) ^ dilation(img1)\n",
    "# bor_tg = erosion(img2) ^ dilation(img2)\n",
    "# bor_in = img1 ^ dilation(img1)\n",
    "# bor_tg = img2 ^ dilation(img2)\n",
    "\n",
    "# plot3d([bor_in,bor_tg])\n",
    "\n"
   ]
  },
  {
   "cell_type": "code",
   "execution_count": 33,
   "id": "96f2657c",
   "metadata": {},
   "outputs": [],
   "source": [
    "# use find contour function? No version for 3D... \n",
    "# img1 = imread(path_vs[0])\n",
    "# im = img1[len(img1)//2]\n",
    "\n",
    "## with skimage\n",
    "# contours = find_contours(im)\n",
    "# print(contour[0].shape)\n",
    "\n",
    "## with cv2\n",
    "# im = np.stack([im,im,im],-1)\n",
    "# plt.imshow(im)\n",
    "# plt.show()\n",
    "# imgray = cv2.cvtColor(im, cv2.COLOR_BGR2GRAY)\n",
    "# contour, hierarchy = cv2.findContours(imgray, cv2.RETR_TREE, cv2.CHAIN_APPROX_SIMPLE)\n",
    "# print(contour[0].shape)\n",
    "\n",
    "## plot contours\n",
    "# def contour_to_img(contour, shape):\n",
    "#     out = np.zeros(shape)\n",
    "#     for i in range(len(contour)):\n",
    "#         x = contour[i][0][0]\n",
    "#         y = contour[i][0][1]\n",
    "#         out[y][x] = 1\n",
    "#     return out\n",
    "# plt.figure(dpi=200)\n",
    "# out = contour_to_img(contour[0], im.shape)\n",
    "# plt.imshow(out)"
   ]
  },
  {
   "cell_type": "code",
   "execution_count": 48,
   "id": "2d801f3b",
   "metadata": {},
   "outputs": [],
   "source": [
    "def versus(fct, list_abs1,list_abs2):\n",
    "    \"\"\"\n",
    "    Computes the function 'fct' over the whole list_abs1 and list_abs2\n",
    "    \"\"\"\n",
    "    mean = 0\n",
    "    count = 0\n",
    "    for i in range(len(list_abs1)):\n",
    "        if os.path.exists(list_abs1[i]) and os.path.exists(list_abs2[i]):\n",
    "            \n",
    "            img1 = imread(list_abs1[i])\n",
    "            img1 = (img1 > 0).astype(int)\n",
    "            img2 = imread(list_abs2[i])\n",
    "            img2 = (img2 > 0).astype(int)\n",
    "            if sum(img1.shape)!=sum(img2.shape):\n",
    "                print(\"bug:\", list_abs1[i])\n",
    "                pass\n",
    "            else:\n",
    "                mean += fct(img1,img2)\n",
    "                count += 1\n",
    "    return mean / count\n",
    "\n",
    "def versus_one(fct, in_path, tg_path):\n",
    "    img1 = imread(in_path)\n",
    "    img1 = (img1 > 0).astype(int)\n",
    "    img2 = imread(tg_path)\n",
    "    img2 = (img2 > 0).astype(int)\n",
    "    if sum(img1.shape)!=sum(img2.shape):\n",
    "        print(\"bug:\", list_abs[i])\n",
    "        return\n",
    "    return fct(img1, img2)\n",
    "\n",
    "def versus_all(versus, fct, list_abs):\n",
    "    \"\"\"\n",
    "    use the \"versus\" function to apply the \"fct\" function over the \n",
    "    different elements in list \"list_abs\" of length 4.\n",
    "    \"\"\"\n",
    "    print(\"sophie vs mine\", versus(fct, list_abs[0], list_abs[1]))\n",
    "    print(\"sophie vs gift\", versus(fct, list_abs[0], list_abs[2]))\n",
    "    print(\"sophie vs otsu\", versus(fct, list_abs[0], list_abs[3]))\n",
    "\n",
    "    print(\"mine vs gift\", versus(fct, list_abs[1], list_abs[2]))\n",
    "    print(\"mine vs otsu\", versus(fct, list_abs[1], list_abs[3]))\n",
    "\n",
    "    print(\"otsu vs gift\", versus(fct, list_abs[2], list_abs[3]))"
   ]
  },
  {
   "cell_type": "code",
   "execution_count": 49,
   "id": "916002e1",
   "metadata": {},
   "outputs": [
    {
     "name": "stdout",
     "output_type": "stream",
     "text": [
      "sophie vs mine 0.8363969855257387\n",
      "sophie vs gift 0.02944933538071282\n"
     ]
    },
    {
     "ename": "IndexError",
     "evalue": "index 3 is out of bounds for axis 0 with size 3",
     "output_type": "error",
     "traceback": [
      "\u001b[1;31m---------------------------------------------------------------------------\u001b[0m",
      "\u001b[1;31mIndexError\u001b[0m                                Traceback (most recent call last)",
      "Input \u001b[1;32mIn [49]\u001b[0m, in \u001b[0;36m<cell line: 1>\u001b[1;34m()\u001b[0m\n\u001b[1;32m----> 1\u001b[0m \u001b[43mversus_all\u001b[49m\u001b[43m(\u001b[49m\u001b[43mversus_one\u001b[49m\u001b[43m,\u001b[49m\u001b[43m \u001b[49m\u001b[43miou\u001b[49m\u001b[43m,\u001b[49m\u001b[43m \u001b[49m\u001b[43mnp\u001b[49m\u001b[38;5;241;43m.\u001b[39;49m\u001b[43mtranspose\u001b[49m\u001b[43m(\u001b[49m\u001b[43mlist_abs\u001b[49m\u001b[43m)\u001b[49m\u001b[43m[\u001b[49m\u001b[38;5;241;43m0\u001b[39;49m\u001b[43m]\u001b[49m\u001b[43m)\u001b[49m\n",
      "Input \u001b[1;32mIn [48]\u001b[0m, in \u001b[0;36mversus_all\u001b[1;34m(versus, fct, list_abs)\u001b[0m\n\u001b[0;32m     37\u001b[0m \u001b[38;5;28mprint\u001b[39m(\u001b[38;5;124m\"\u001b[39m\u001b[38;5;124msophie vs mine\u001b[39m\u001b[38;5;124m\"\u001b[39m, versus(fct, list_abs[\u001b[38;5;241m0\u001b[39m], list_abs[\u001b[38;5;241m1\u001b[39m]))\n\u001b[0;32m     38\u001b[0m \u001b[38;5;28mprint\u001b[39m(\u001b[38;5;124m\"\u001b[39m\u001b[38;5;124msophie vs gift\u001b[39m\u001b[38;5;124m\"\u001b[39m, versus(fct, list_abs[\u001b[38;5;241m0\u001b[39m], list_abs[\u001b[38;5;241m2\u001b[39m]))\n\u001b[1;32m---> 39\u001b[0m \u001b[38;5;28mprint\u001b[39m(\u001b[38;5;124m\"\u001b[39m\u001b[38;5;124msophie vs otsu\u001b[39m\u001b[38;5;124m\"\u001b[39m, versus(fct, list_abs[\u001b[38;5;241m0\u001b[39m], \u001b[43mlist_abs\u001b[49m\u001b[43m[\u001b[49m\u001b[38;5;241;43m3\u001b[39;49m\u001b[43m]\u001b[49m))\n\u001b[0;32m     41\u001b[0m \u001b[38;5;28mprint\u001b[39m(\u001b[38;5;124m\"\u001b[39m\u001b[38;5;124mmine vs gift\u001b[39m\u001b[38;5;124m\"\u001b[39m, versus(fct, list_abs[\u001b[38;5;241m1\u001b[39m], list_abs[\u001b[38;5;241m2\u001b[39m]))\n\u001b[0;32m     42\u001b[0m \u001b[38;5;28mprint\u001b[39m(\u001b[38;5;124m\"\u001b[39m\u001b[38;5;124mmine vs otsu\u001b[39m\u001b[38;5;124m\"\u001b[39m, versus(fct, list_abs[\u001b[38;5;241m1\u001b[39m], list_abs[\u001b[38;5;241m3\u001b[39m]))\n",
      "\u001b[1;31mIndexError\u001b[0m: index 3 is out of bounds for axis 0 with size 3"
     ]
    }
   ],
   "source": [
    "versus_all(versus_one, iou, np.transpose(list_abs)[0])"
   ]
  },
  {
   "cell_type": "code",
   "execution_count": 50,
   "id": "65357786",
   "metadata": {},
   "outputs": [
    {
     "name": "stdout",
     "output_type": "stream",
     "text": [
      "0.717184576157508\n",
      "current idx:  24\n",
      "image name:  KAKU4-wt--CRWN1-wt--CRWN4-wt_Cot_J13_STD_FIXE_H258_R1_18_C0.tif\n",
      "sophie vs mine 0.7617334423548651\n",
      "sophie vs gift 0.017910594486546572\n",
      "current idx:  25\n",
      "image name:  KAKU4-wt--CRWN1-wt--CRWN4-wt_Cot_J13_STD_FIXE_H258_R1_23_C0.tif\n",
      "sophie vs mine 0.8521214459860031\n",
      "sophie vs gift 0.03672323350466615\n",
      "current idx:  25\n",
      "image name:  KAKU4-wt--CRWN1-wt--CRWN4-wt_Cot_J13_STD_FIXE_H258_R1_23_C0.tif\n",
      "sophie vs mine 0.8521214459860031\n",
      "sophie vs gift 0.03672323350466615\n"
     ]
    }
   ],
   "source": [
    "print(versus(iou, list_abs[0], list_abs[1]))"
   ]
  },
  {
   "cell_type": "code",
   "execution_count": 36,
   "id": "6514b621",
   "metadata": {},
   "outputs": [
    {
     "ename": "FileNotFoundError",
     "evalue": "[Errno 2] No such file or directory: 'C:\\\\Users\\\\mezquitap\\\\Documents\\\\Dataset\\\\dataset\\\\masks_resultat\\\\KAKU4-wt--CRWN1-wt--CRWN4-wt_Cot_J13_STD_FIXE_H258_M2_7_C0.tif'",
     "output_type": "error",
     "traceback": [
      "\u001b[1;31m---------------------------------------------------------------------------\u001b[0m",
      "\u001b[1;31mFileNotFoundError\u001b[0m                         Traceback (most recent call last)",
      "Input \u001b[1;32mIn [36]\u001b[0m, in \u001b[0;36m<cell line: 3>\u001b[1;34m()\u001b[0m\n\u001b[0;32m      1\u001b[0m \u001b[38;5;66;03m# fct = iou_border_thick\u001b[39;00m\n\u001b[0;32m      2\u001b[0m fct \u001b[38;5;241m=\u001b[39m iou\n\u001b[1;32m----> 3\u001b[0m \u001b[38;5;28mprint\u001b[39m(\u001b[38;5;124m\"\u001b[39m\u001b[38;5;124msophie vs mine\u001b[39m\u001b[38;5;124m\"\u001b[39m, \u001b[43mversus\u001b[49m\u001b[43m(\u001b[49m\u001b[43mfct\u001b[49m\u001b[43m,\u001b[49m\u001b[43m \u001b[49m\u001b[43mlist_abs\u001b[49m\u001b[43m[\u001b[49m\u001b[38;5;241;43m0\u001b[39;49m\u001b[43m]\u001b[49m\u001b[43m,\u001b[49m\u001b[43m \u001b[49m\u001b[43mlist_abs\u001b[49m\u001b[43m[\u001b[49m\u001b[38;5;241;43m1\u001b[39;49m\u001b[43m]\u001b[49m\u001b[43m)\u001b[49m)\n\u001b[0;32m      4\u001b[0m \u001b[38;5;28mprint\u001b[39m(\u001b[38;5;124m\"\u001b[39m\u001b[38;5;124msophie vs gift\u001b[39m\u001b[38;5;124m\"\u001b[39m, versus(fct, list_abs[\u001b[38;5;241m0\u001b[39m], list_abs[\u001b[38;5;241m2\u001b[39m]))\n\u001b[0;32m      5\u001b[0m \u001b[38;5;28mprint\u001b[39m(\u001b[38;5;124m\"\u001b[39m\u001b[38;5;124msophie vs otsu\u001b[39m\u001b[38;5;124m\"\u001b[39m, versus(fct, list_abs[\u001b[38;5;241m0\u001b[39m], list_abs[\u001b[38;5;241m3\u001b[39m]))\n",
      "Input \u001b[1;32mIn [34]\u001b[0m, in \u001b[0;36mversus\u001b[1;34m(fct, list_abs1, list_abs2)\u001b[0m\n\u001b[0;32m      8\u001b[0m img1 \u001b[38;5;241m=\u001b[39m imread(list_abs1[i])\n\u001b[0;32m      9\u001b[0m img1 \u001b[38;5;241m=\u001b[39m (img1 \u001b[38;5;241m>\u001b[39m \u001b[38;5;241m0\u001b[39m)\u001b[38;5;241m.\u001b[39mastype(\u001b[38;5;28mint\u001b[39m)\n\u001b[1;32m---> 10\u001b[0m img2 \u001b[38;5;241m=\u001b[39m \u001b[43mimread\u001b[49m\u001b[43m(\u001b[49m\u001b[43mlist_abs2\u001b[49m\u001b[43m[\u001b[49m\u001b[43mi\u001b[49m\u001b[43m]\u001b[49m\u001b[43m)\u001b[49m\n\u001b[0;32m     11\u001b[0m img2 \u001b[38;5;241m=\u001b[39m (img2 \u001b[38;5;241m>\u001b[39m \u001b[38;5;241m0\u001b[39m)\u001b[38;5;241m.\u001b[39mastype(\u001b[38;5;28mint\u001b[39m)\n\u001b[0;32m     12\u001b[0m \u001b[38;5;28;01mif\u001b[39;00m \u001b[38;5;28msum\u001b[39m(img1\u001b[38;5;241m.\u001b[39mshape)\u001b[38;5;241m!=\u001b[39m\u001b[38;5;28msum\u001b[39m(img2\u001b[38;5;241m.\u001b[39mshape):\n",
      "File \u001b[1;32m~\\anaconda3\\envs\\napari-env\\lib\\site-packages\\skimage\\io\\_io.py:53\u001b[0m, in \u001b[0;36mimread\u001b[1;34m(fname, as_gray, plugin, **plugin_args)\u001b[0m\n\u001b[0;32m     50\u001b[0m         plugin \u001b[38;5;241m=\u001b[39m \u001b[38;5;124m'\u001b[39m\u001b[38;5;124mtifffile\u001b[39m\u001b[38;5;124m'\u001b[39m\n\u001b[0;32m     52\u001b[0m \u001b[38;5;28;01mwith\u001b[39;00m file_or_url_context(fname) \u001b[38;5;28;01mas\u001b[39;00m fname:\n\u001b[1;32m---> 53\u001b[0m     img \u001b[38;5;241m=\u001b[39m call_plugin(\u001b[38;5;124m'\u001b[39m\u001b[38;5;124mimread\u001b[39m\u001b[38;5;124m'\u001b[39m, fname, plugin\u001b[38;5;241m=\u001b[39mplugin, \u001b[38;5;241m*\u001b[39m\u001b[38;5;241m*\u001b[39mplugin_args)\n\u001b[0;32m     55\u001b[0m \u001b[38;5;28;01mif\u001b[39;00m \u001b[38;5;129;01mnot\u001b[39;00m \u001b[38;5;28mhasattr\u001b[39m(img, \u001b[38;5;124m'\u001b[39m\u001b[38;5;124mndim\u001b[39m\u001b[38;5;124m'\u001b[39m):\n\u001b[0;32m     56\u001b[0m     \u001b[38;5;28;01mreturn\u001b[39;00m img\n",
      "File \u001b[1;32m~\\anaconda3\\envs\\napari-env\\lib\\site-packages\\skimage\\io\\manage_plugins.py:207\u001b[0m, in \u001b[0;36mcall_plugin\u001b[1;34m(kind, *args, **kwargs)\u001b[0m\n\u001b[0;32m    203\u001b[0m     \u001b[38;5;28;01mexcept\u001b[39;00m \u001b[38;5;167;01mIndexError\u001b[39;00m:\n\u001b[0;32m    204\u001b[0m         \u001b[38;5;28;01mraise\u001b[39;00m \u001b[38;5;167;01mRuntimeError\u001b[39;00m(\u001b[38;5;124m'\u001b[39m\u001b[38;5;124mCould not find the plugin \u001b[39m\u001b[38;5;124m\"\u001b[39m\u001b[38;5;132;01m%s\u001b[39;00m\u001b[38;5;124m\"\u001b[39m\u001b[38;5;124m for \u001b[39m\u001b[38;5;132;01m%s\u001b[39;00m\u001b[38;5;124m.\u001b[39m\u001b[38;5;124m'\u001b[39m \u001b[38;5;241m%\u001b[39m\n\u001b[0;32m    205\u001b[0m                            (plugin, kind))\n\u001b[1;32m--> 207\u001b[0m \u001b[38;5;28;01mreturn\u001b[39;00m func(\u001b[38;5;241m*\u001b[39margs, \u001b[38;5;241m*\u001b[39m\u001b[38;5;241m*\u001b[39mkwargs)\n",
      "File \u001b[1;32m~\\anaconda3\\envs\\napari-env\\lib\\site-packages\\skimage\\io\\_plugins\\tifffile_plugin.py:30\u001b[0m, in \u001b[0;36mimread\u001b[1;34m(fname, **kwargs)\u001b[0m\n\u001b[0;32m     27\u001b[0m \u001b[38;5;28;01mif\u001b[39;00m \u001b[38;5;124m'\u001b[39m\u001b[38;5;124mimg_num\u001b[39m\u001b[38;5;124m'\u001b[39m \u001b[38;5;129;01min\u001b[39;00m kwargs:\n\u001b[0;32m     28\u001b[0m     kwargs[\u001b[38;5;124m'\u001b[39m\u001b[38;5;124mkey\u001b[39m\u001b[38;5;124m'\u001b[39m] \u001b[38;5;241m=\u001b[39m kwargs\u001b[38;5;241m.\u001b[39mpop(\u001b[38;5;124m'\u001b[39m\u001b[38;5;124mimg_num\u001b[39m\u001b[38;5;124m'\u001b[39m)\n\u001b[1;32m---> 30\u001b[0m \u001b[38;5;28;01mreturn\u001b[39;00m tifffile_imread(fname, \u001b[38;5;241m*\u001b[39m\u001b[38;5;241m*\u001b[39mkwargs)\n",
      "File \u001b[1;32m~\\anaconda3\\envs\\napari-env\\lib\\site-packages\\tifffile\\tifffile.py:820\u001b[0m, in \u001b[0;36mimread\u001b[1;34m(files, aszarr, **kwargs)\u001b[0m\n\u001b[0;32m    817\u001b[0m     files \u001b[38;5;241m=\u001b[39m files[\u001b[38;5;241m0\u001b[39m]\n\u001b[0;32m    819\u001b[0m \u001b[38;5;28;01mif\u001b[39;00m \u001b[38;5;28misinstance\u001b[39m(files, (\u001b[38;5;28mstr\u001b[39m, os\u001b[38;5;241m.\u001b[39mPathLike)) \u001b[38;5;129;01mor\u001b[39;00m \u001b[38;5;28mhasattr\u001b[39m(files, \u001b[38;5;124m'\u001b[39m\u001b[38;5;124mseek\u001b[39m\u001b[38;5;124m'\u001b[39m):\n\u001b[1;32m--> 820\u001b[0m     \u001b[38;5;28;01mwith\u001b[39;00m TiffFile(files, \u001b[38;5;241m*\u001b[39m\u001b[38;5;241m*\u001b[39mkwargs_file) \u001b[38;5;28;01mas\u001b[39;00m tif:\n\u001b[0;32m    821\u001b[0m         \u001b[38;5;28;01mif\u001b[39;00m aszarr:\n\u001b[0;32m    822\u001b[0m             \u001b[38;5;28;01mreturn\u001b[39;00m tif\u001b[38;5;241m.\u001b[39maszarr(\u001b[38;5;241m*\u001b[39m\u001b[38;5;241m*\u001b[39mkwargs)\n",
      "File \u001b[1;32m~\\anaconda3\\envs\\napari-env\\lib\\site-packages\\tifffile\\tifffile.py:3142\u001b[0m, in \u001b[0;36mTiffFile.__init__\u001b[1;34m(self, arg, mode, name, offset, size, _multifile, _useframes, _parent, **kwargs)\u001b[0m\n\u001b[0;32m   3139\u001b[0m \u001b[38;5;28;01mif\u001b[39;00m mode \u001b[38;5;129;01mnot\u001b[39;00m \u001b[38;5;129;01min\u001b[39;00m (\u001b[38;5;28;01mNone\u001b[39;00m, \u001b[38;5;124m'\u001b[39m\u001b[38;5;124mrb\u001b[39m\u001b[38;5;124m'\u001b[39m, \u001b[38;5;124m'\u001b[39m\u001b[38;5;124mr+b\u001b[39m\u001b[38;5;124m'\u001b[39m):\n\u001b[0;32m   3140\u001b[0m     \u001b[38;5;28;01mraise\u001b[39;00m \u001b[38;5;167;01mValueError\u001b[39;00m(\u001b[38;5;124mf\u001b[39m\u001b[38;5;124m'\u001b[39m\u001b[38;5;124minvalid mode \u001b[39m\u001b[38;5;132;01m{\u001b[39;00mmode\u001b[38;5;132;01m!r}\u001b[39;00m\u001b[38;5;124m'\u001b[39m)\n\u001b[1;32m-> 3142\u001b[0m fh \u001b[38;5;241m=\u001b[39m \u001b[43mFileHandle\u001b[49m\u001b[43m(\u001b[49m\u001b[43marg\u001b[49m\u001b[43m,\u001b[49m\u001b[43m \u001b[49m\u001b[43mmode\u001b[49m\u001b[38;5;241;43m=\u001b[39;49m\u001b[43mmode\u001b[49m\u001b[43m,\u001b[49m\u001b[43m \u001b[49m\u001b[43mname\u001b[49m\u001b[38;5;241;43m=\u001b[39;49m\u001b[43mname\u001b[49m\u001b[43m,\u001b[49m\u001b[43m \u001b[49m\u001b[43moffset\u001b[49m\u001b[38;5;241;43m=\u001b[39;49m\u001b[43moffset\u001b[49m\u001b[43m,\u001b[49m\u001b[43m \u001b[49m\u001b[43msize\u001b[49m\u001b[38;5;241;43m=\u001b[39;49m\u001b[43msize\u001b[49m\u001b[43m)\u001b[49m\n\u001b[0;32m   3143\u001b[0m \u001b[38;5;28mself\u001b[39m\u001b[38;5;241m.\u001b[39m_fh \u001b[38;5;241m=\u001b[39m fh\n\u001b[0;32m   3144\u001b[0m \u001b[38;5;28mself\u001b[39m\u001b[38;5;241m.\u001b[39m_multifile \u001b[38;5;241m=\u001b[39m \u001b[38;5;28mbool\u001b[39m(_multifile)\n",
      "File \u001b[1;32m~\\anaconda3\\envs\\napari-env\\lib\\site-packages\\tifffile\\tifffile.py:10509\u001b[0m, in \u001b[0;36mFileHandle.__init__\u001b[1;34m(self, file, mode, name, offset, size)\u001b[0m\n\u001b[0;32m  10507\u001b[0m \u001b[38;5;28mself\u001b[39m\u001b[38;5;241m.\u001b[39mis_file \u001b[38;5;241m=\u001b[39m \u001b[38;5;28;01mNone\u001b[39;00m\n\u001b[0;32m  10508\u001b[0m \u001b[38;5;28mself\u001b[39m\u001b[38;5;241m.\u001b[39m_lock \u001b[38;5;241m=\u001b[39m NullContext()\n\u001b[1;32m> 10509\u001b[0m \u001b[38;5;28;43mself\u001b[39;49m\u001b[38;5;241;43m.\u001b[39;49m\u001b[43mopen\u001b[49m\u001b[43m(\u001b[49m\u001b[43m)\u001b[49m\n",
      "File \u001b[1;32m~\\anaconda3\\envs\\napari-env\\lib\\site-packages\\tifffile\\tifffile.py:10522\u001b[0m, in \u001b[0;36mFileHandle.open\u001b[1;34m(self)\u001b[0m\n\u001b[0;32m  10520\u001b[0m \u001b[38;5;28mself\u001b[39m\u001b[38;5;241m.\u001b[39m_file \u001b[38;5;241m=\u001b[39m os\u001b[38;5;241m.\u001b[39mpath\u001b[38;5;241m.\u001b[39mrealpath(\u001b[38;5;28mself\u001b[39m\u001b[38;5;241m.\u001b[39m_file)\n\u001b[0;32m  10521\u001b[0m \u001b[38;5;28mself\u001b[39m\u001b[38;5;241m.\u001b[39m_dir, \u001b[38;5;28mself\u001b[39m\u001b[38;5;241m.\u001b[39m_name \u001b[38;5;241m=\u001b[39m os\u001b[38;5;241m.\u001b[39mpath\u001b[38;5;241m.\u001b[39msplit(\u001b[38;5;28mself\u001b[39m\u001b[38;5;241m.\u001b[39m_file)\n\u001b[1;32m> 10522\u001b[0m \u001b[38;5;28mself\u001b[39m\u001b[38;5;241m.\u001b[39m_fh \u001b[38;5;241m=\u001b[39m \u001b[38;5;28;43mopen\u001b[39;49m\u001b[43m(\u001b[49m\u001b[38;5;28;43mself\u001b[39;49m\u001b[38;5;241;43m.\u001b[39;49m\u001b[43m_file\u001b[49m\u001b[43m,\u001b[49m\u001b[43m \u001b[49m\u001b[38;5;28;43mself\u001b[39;49m\u001b[38;5;241;43m.\u001b[39;49m\u001b[43m_mode\u001b[49m\u001b[43m)\u001b[49m\n\u001b[0;32m  10523\u001b[0m \u001b[38;5;28mself\u001b[39m\u001b[38;5;241m.\u001b[39m_close \u001b[38;5;241m=\u001b[39m \u001b[38;5;28;01mTrue\u001b[39;00m\n\u001b[0;32m  10524\u001b[0m \u001b[38;5;28;01mif\u001b[39;00m \u001b[38;5;28mself\u001b[39m\u001b[38;5;241m.\u001b[39m_offset \u001b[38;5;129;01mis\u001b[39;00m \u001b[38;5;28;01mNone\u001b[39;00m:\n",
      "\u001b[1;31mFileNotFoundError\u001b[0m: [Errno 2] No such file or directory: 'C:\\\\Users\\\\mezquitap\\\\Documents\\\\Dataset\\\\dataset\\\\masks_resultat\\\\KAKU4-wt--CRWN1-wt--CRWN4-wt_Cot_J13_STD_FIXE_H258_M2_7_C0.tif'"
     ]
    }
   ],
   "source": [
    "# fct = iou_border_thick\n",
    "fct = iou\n",
    "print(\"sophie vs mine\", versus(fct, list_abs[0], list_abs[1]))\n",
    "print(\"sophie vs gift\", versus(fct, list_abs[0], list_abs[2]))\n",
    "print(\"sophie vs otsu\", versus(fct, list_abs[0], list_abs[3]))\n",
    "\n",
    "print(\"mine vs gift\", versus(fct, list_abs[1], list_abs[2]))\n",
    "print(\"mine vs otsu\", versus(fct, list_abs[1], list_abs[3]))\n",
    "\n",
    "print(\"otsu vs gift\", versus(fct, list_abs[2], list_abs[3]))\n"
   ]
  },
  {
   "cell_type": "code",
   "execution_count": null,
   "id": "b3e3f50b",
   "metadata": {},
   "outputs": [],
   "source": [
    "# temporary: store the file in folders\n",
    "\n",
    "# from shutil import copyfile\n",
    "# out_so = '/home/gumougeot/all/data/3d_nucleus/all_manual/eval_metrics/sophie/'\n",
    "# out_gu = '/home/gumougeot/all/data/3d_nucleus/all_manual/eval_metrics/guillaume/'\n",
    "# out_gi = '/home/gumougeot/all/data/3d_nucleus/all_manual/eval_metrics/gift/'\n",
    "# out_ot = '/home/gumougeot/all/data/3d_nucleus/all_manual/eval_metrics/otsu/'\n",
    "# list_out = [out_so, out_gu, out_gi, out_ot]\n",
    "\n",
    "# # remove bugs\n",
    "# bugs = ['/mnt/52547A99547A8011/data/raw mal seg/2018051_1527145113.736_Ath_Col0--KAKU4-wt--CRWN1-wt--CRWN4-wt_Cot_J13_STD_FIXE_H258_U1_7_C0.tif']\n",
    "# bugs_idx = []\n",
    "# # get bug indexs\n",
    "# for i in range(len(list_out)):\n",
    "#     for j in range(len(list_abs[i])):\n",
    "#         if list_abs[i][j] in bugs:\n",
    "#             bugs_idx += [j]\n",
    "\n",
    "# # copy files to the folder \n",
    "# for i in range(len(list_out)):\n",
    "#     for j in range(len(list_abs[i])):\n",
    "        \n",
    "#         if j not in bugs_idx:\n",
    "#             fname = fname_so_no_begin[j]\n",
    "# #             os.remove(list_out[i]+fname)\n",
    "#             copyfile(list_abs[i][j], list_out[i]+fname)"
   ]
  },
  {
   "cell_type": "markdown",
   "id": "5585ccd3",
   "metadata": {},
   "source": [
    "## visualization\n",
    "\n",
    "visualize the segmentations results with napari\n",
    "it has been made interactive with the following keybindings:\n",
    "\n",
    "'n' for next image\n",
    "\n",
    "'b' for previous image\n",
    "\n",
    "'p' to display properties"
   ]
  },
  {
   "cell_type": "code",
   "execution_count": 38,
   "id": "baf23fb6",
   "metadata": {},
   "outputs": [],
   "source": [
    "# tiff utils\n",
    "def tif_read_meta(tif_path, display=False):\n",
    "    \"\"\"\n",
    "    read the metadata of a tif file and stores them in a python dict.\n",
    "    if there is a 'ImageDescription' tag, it transforms it as a dictionary\n",
    "    \"\"\"\n",
    "    meta = {}\n",
    "    with tiff.TiffFile(tif_path) as tif:\n",
    "        for page in tif.pages:\n",
    "            for tag in page.tags:\n",
    "                tag_name, tag_value = tag.name, tag.value\n",
    "                if display: print(tag.name, tag.code, tag.dtype, tag.count, tag.value)\n",
    "\n",
    "                # below; fix storage problem for ImageDescription tag\n",
    "                if tag_name == 'ImageDescription': \n",
    "                    list_desc = tag_value.split('\\n')\n",
    "                    dict_desc = {}\n",
    "                    for idx, elm in enumerate(list_desc):\n",
    "                        split = elm.split('=')\n",
    "                        dict_desc[split[0]] = split[1]\n",
    "                    meta[tag_name] = dict_desc\n",
    "                else:\n",
    "                    meta[tag_name] = tag_value\n",
    "            break # just check the first image\n",
    "    return meta\n",
    "\n",
    "def tif_get_spacing(path):\n",
    "    \"\"\"\n",
    "    get the image spacing stored in the metadata file.\n",
    "    \"\"\"\n",
    "    img_meta = tif_read_meta(path)\n",
    "\n",
    "    xres = (img_meta[\"XResolution\"][1]/img_meta[\"XResolution\"][0])*1e-6\n",
    "    yres = (img_meta[\"YResolution\"][1]/img_meta[\"YResolution\"][0])*1e-6\n",
    "    zres = float(img_meta[\"ImageDescription\"][\"spacing\"])*1e-6\n",
    "    max_dim = min([xres,yres,zres])\n",
    "    xres = max_dim / xres\n",
    "    yres = max_dim / yres\n",
    "    zres = max_dim / zres\n",
    "    return (xres, yres, zres)\n",
    "\n",
    "def load_resample_img(path, spacing):\n",
    "    \"\"\"\n",
    "    load and resample the image \n",
    "    \"\"\"\n",
    "    transform = tio.Resample(spacing)\n",
    "    img = imread(path)\n",
    "    timg = np.expand_dims(img, 0)\n",
    "    return transform(timg)[0]"
   ]
  },
  {
   "cell_type": "code",
   "execution_count": 39,
   "id": "a03a9b28",
   "metadata": {
    "scrolled": false
   },
   "outputs": [
    {
     "name": "stderr",
     "output_type": "stream",
     "text": [
      "WARNING: DirectWrite: CreateFontFaceFromHDC() failed (Indique une erreur dans un fichier d’entrée, tel qu’un fichier de polices.) for QFontDef(Family=\"\", pointsize=12, pixelsize=16, styleHint=5, weight=50, stretch=100, hintingPreference=0) LOGFONT(\"MS Sans Serif\", lfWidth=0, lfHeight=-16) dpi=96\n"
     ]
    },
    {
     "name": "stdout",
     "output_type": "stream",
     "text": [
      "current idx:  4\n",
      "image name:  KAKU4-wt--CRWN1-wt--CRWN4-wt_Cot_J13_STD_FIXE_H258_M2_7_C0.tif\n"
     ]
    }
   ],
   "source": [
    "idx = 0\n",
    "\n",
    "#name_dict = {\n",
    "#    'image'    :-1,\n",
    "#    'sophie'   :0,\n",
    "#    'guillaume':1,\n",
    "#    'gift'     :2,\n",
    "#    'otsu'     :3,\n",
    "#}\n",
    "\n",
    "name_dict = {\n",
    "    'image'    :-1,\n",
    "    'original mask'   :0,\n",
    "    'cellpose mask': 1,\n",
    "}\n",
    "\n",
    "\n",
    "fct = iou # metric to display\n",
    "spacing = tif_get_spacing(list_abs[-1][idx])\n",
    "spacing = np.flip(spacing) # CAREFUL: spacing must be in ZYX and not in XYZ!\n",
    "\n",
    "viewer = napari.Viewer()\n",
    "\n",
    "for k,v in name_dict.items():\n",
    "    if k=='image':\n",
    "        \n",
    "        viewer.add_image(load_resample_img(list_abs[v][idx], spacing), name=k)\n",
    "    else: # change color properties\n",
    "        viewer.add_labels(load_resample_img(list_abs[v][idx], spacing)//255 * (1+v), name=k)\n",
    "\n",
    "def replace_layers(viewer):\n",
    "    global idx\n",
    "    for k, v in name_dict.items():\n",
    "        if k=='image':\n",
    "            viewer.layers[k].data = load_resample_img(list_abs[v][idx], spacing)\n",
    "        else: # change color properties\n",
    "            viewer.layers[k].data = load_resample_img(list_abs[v][idx], spacing)//255 * (1+v)\n",
    "    return viewer\n",
    "    \n",
    "@viewer.bind_key('n', overwrite=True)\n",
    "def napari_print_next(viewer):\n",
    "    global idx\n",
    "    if idx < len(list_abs[0])-1:\n",
    "        idx += 1\n",
    "        viewer = replace_layers(viewer)\n",
    "\n",
    "@viewer.bind_key('b', overwrite=True)\n",
    "def napari_print_previous(viewer):\n",
    "    global idx\n",
    "    if idx > 0:\n",
    "        idx -= 1\n",
    "        viewer = replace_layers(viewer)\n",
    "        \n",
    "@viewer.bind_key('p', overwrite=True)\n",
    "def napari_print_properties(viewer):\n",
    "    global idx\n",
    "    print(\"current idx: \", idx)\n",
    "    print(\"image name: \", list_abs[v][idx].split('/')[-1])\n",
    "    versus_all(versus_one, fct, np.transpose(list_abs)[idx])\n",
    "    \n"
   ]
  },
  {
   "cell_type": "code",
   "execution_count": null,
   "id": "caea4014",
   "metadata": {},
   "outputs": [],
   "source": []
  }
 ],
 "metadata": {
  "kernelspec": {
   "display_name": "Python 3 (ipykernel)",
   "language": "python",
   "name": "python3"
  },
  "language_info": {
   "codemirror_mode": {
    "name": "ipython",
    "version": 3
   },
   "file_extension": ".py",
   "mimetype": "text/x-python",
   "name": "python",
   "nbconvert_exporter": "python",
   "pygments_lexer": "ipython3",
   "version": "3.9.7"
  }
 },
 "nbformat": 4,
 "nbformat_minor": 5
}
