{
 "cells": [
  {
   "cell_type": "code",
   "execution_count": 2,
   "id": "25db9703",
   "metadata": {},
   "outputs": [],
   "source": [
    "import pandas as pd\n",
    "import os\n",
    "import numpy as np\n",
    "import matplotlib.pyplot as plt\n",
    "from skimage import io"
   ]
  },
  {
   "cell_type": "code",
   "execution_count": 3,
   "id": "b05823b7",
   "metadata": {},
   "outputs": [
    {
     "data": {
      "text/html": [
       "<div>\n",
       "<style scoped>\n",
       "    .dataframe tbody tr th:only-of-type {\n",
       "        vertical-align: middle;\n",
       "    }\n",
       "\n",
       "    .dataframe tbody tr th {\n",
       "        vertical-align: top;\n",
       "    }\n",
       "\n",
       "    .dataframe thead th {\n",
       "        text-align: right;\n",
       "    }\n",
       "</style>\n",
       "<table border=\"1\" class=\"dataframe\">\n",
       "  <thead>\n",
       "    <tr style=\"text-align: right;\">\n",
       "      <th></th>\n",
       "      <th>filename</th>\n",
       "      <th>fold_0</th>\n",
       "      <th>fold_x</th>\n",
       "    </tr>\n",
       "  </thead>\n",
       "  <tbody>\n",
       "    <tr>\n",
       "      <th>0</th>\n",
       "      <td>KAKU4-wt--CRWN1-wt--CRWN4-wt_Cot_J13_STD_FIXE_...</td>\n",
       "      <td>0</td>\n",
       "      <td>0</td>\n",
       "    </tr>\n",
       "    <tr>\n",
       "      <th>1</th>\n",
       "      <td>KAKU4-wt--CRWN1-wt--CRWN4-wt_Cot_J13_STD_FIXE_...</td>\n",
       "      <td>2</td>\n",
       "      <td>2</td>\n",
       "    </tr>\n",
       "    <tr>\n",
       "      <th>2</th>\n",
       "      <td>KAKU4-wt--CRWN1-wt--CRWN4-wt_Cot_J13_STD_FIXE_...</td>\n",
       "      <td>2</td>\n",
       "      <td>11</td>\n",
       "    </tr>\n",
       "    <tr>\n",
       "      <th>3</th>\n",
       "      <td>KAKU4-wt--CRWN1-wt--CRWN4-wt_Cot_J13_STD_FIXE_...</td>\n",
       "      <td>2</td>\n",
       "      <td>2</td>\n",
       "    </tr>\n",
       "    <tr>\n",
       "      <th>4</th>\n",
       "      <td>KAKU4-wt--CRWN1-wt--CRWN4-wt_Cot_J13_STD_FIXE_...</td>\n",
       "      <td>0</td>\n",
       "      <td>0</td>\n",
       "    </tr>\n",
       "  </tbody>\n",
       "</table>\n",
       "</div>"
      ],
      "text/plain": [
       "                                            filename  fold_0  fold_x\n",
       "0  KAKU4-wt--CRWN1-wt--CRWN4-wt_Cot_J13_STD_FIXE_...       0       0\n",
       "1  KAKU4-wt--CRWN1-wt--CRWN4-wt_Cot_J13_STD_FIXE_...       2       2\n",
       "2  KAKU4-wt--CRWN1-wt--CRWN4-wt_Cot_J13_STD_FIXE_...       2      11\n",
       "3  KAKU4-wt--CRWN1-wt--CRWN4-wt_Cot_J13_STD_FIXE_...       2       2\n",
       "4  KAKU4-wt--CRWN1-wt--CRWN4-wt_Cot_J13_STD_FIXE_...       0       0"
      ]
     },
     "execution_count": 3,
     "metadata": {},
     "output_type": "execute_result"
    }
   ],
   "source": [
    "#path_csv = \"/home/gumougeot/all/data/3d_nucleus/all_manual/folds_x_sophie.csv\"\n",
    "#path_csv = \"C:\\\\Users\\\\mezquitap\\\\Documents\\\\nuclei_benchmark\\\\notebooks\\\\folds_x_sophie.csv\"\n",
    "#path_img = \"C:\\\\Users\\\\mezquitap\\\\Documents\\\\Dataset\\\\dataset\\\\images_sophie\\\\\"\n",
    "#path_mask = \"C:\\\\Users\\\\mezquitap\\\\Documents\\\\Dataset\\\\dataset\\\\masks_sophie\\\\\"\n",
    "\n",
    "path_csv = \"/home/mezquitap/nuclei_benchmark/notebooks/folds_x_sophie.csv\"\n",
    "#path_img = \"/home/mezquitap/dataset/images_sophie/\"\n",
    "#path_mask = \"/home/mezquitap/dataset/masks_sophie/\"\n",
    "path_img = \"/home/mezquitap/stardist_dataset/images_resampled_sophie/\"\n",
    "path_mask = \"/home/mezquitap/stardist_dataset/masks_resampled_sophie/\"\n",
    "\n",
    "df = pd.read_csv(path_csv)\n",
    "df.head()"
   ]
  },
  {
   "cell_type": "markdown",
   "id": "9af92d50",
   "metadata": {},
   "source": [
    "### setters"
   ]
  },
  {
   "cell_type": "code",
   "execution_count": 4,
   "id": "ddcf828e",
   "metadata": {},
   "outputs": [
    {
     "name": "stdout",
     "output_type": "stream",
     "text": [
      "number of images in each fold: [28, 14, 1, 1, 1, 1, 1, 1, 1, 1, 1, 1, 1, 1, 1, 1, 1]\n"
     ]
    }
   ],
   "source": [
    "def set_fold_0(df, test_ratio=0.2, val_ratio=0.2, seed=42):\n",
    "    \"\"\"\n",
    "    define the test set and validation sets\n",
    "    add it to the df in 'fold_0'\n",
    "    {0: test, val: 1, train: 0}\n",
    "    \"\"\"\n",
    "    np.random.seed(seed)\n",
    "    l = np.array(df.iloc[:,0])\n",
    "    \n",
    "    # shuffle the list \n",
    "    permut = np.random.permutation(len(l))\n",
    "    inv_permut = np.argsort(permut)\n",
    "    # shuffled = l[permut] # shuffled contains the suffled list\n",
    "    \n",
    "    # split the shuffled list\n",
    "    test_split = int(len(l)*test_ratio)\n",
    "    val_split = int(len(l)*val_ratio)\n",
    "    train_split = len(l)-test_split-val_split\n",
    "    indices = np.array([0]*test_split+[1]*val_split+[2]*train_split)\n",
    "    \n",
    "    # unpermut the list of indice to get back the original\n",
    "    sort_indices = indices[inv_permut]\n",
    "    \n",
    "    # add columns\n",
    "    df['fold_0'] = sort_indices\n",
    "    return df\n",
    "\n",
    "df2 = set_fold_0(df)\n",
    "# print(df2.head(25))\n",
    "\n",
    "def set_fold_x(df, ratio=[0.5,0.25]):\n",
    "    \"\"\"\n",
    "    create a new column with 4 types:\n",
    "    {0: test, 1: val, 2->i: fold_1->(i-1)}\n",
    "    TODO function: the validation set is retrieved from column \"fold\", fold number 0.\n",
    "    params: \n",
    "     - nb_train_img: is the number of train images\n",
    "    \"\"\"\n",
    "    # get the fold_0 list\n",
    "    fold = np.array(df.fold_0)\n",
    "    train_size = sum(fold==2)\n",
    "    nb_imgs = [int(train_size*r) for r in ratio]\n",
    "    \n",
    "    # add the left overs\n",
    "    nb_imgs += [1]*(train_size-sum(nb_imgs))\n",
    "    print(\"number of images in each fold:\", nb_imgs)\n",
    "    \n",
    "    # indices\n",
    "    indices = []\n",
    "    for i,r in enumerate(nb_imgs):\n",
    "        indices += [i+2]*r\n",
    "    \n",
    "    # shuffle it \n",
    "    shuffle = np.random.permutation(indices)\n",
    "    \n",
    "    # replace the shuffle list in the original array where element==2\n",
    "    j = 0\n",
    "    for i in range(len(fold)):\n",
    "        if fold[i]==2:\n",
    "            fold[i]=shuffle[j]\n",
    "            j+=1\n",
    "    \n",
    "    # put it back in the dataframe\n",
    "    df['fold_x'] = fold\n",
    "    return(df)\n",
    "\n",
    "\n",
    "df3=set_fold_x(df=df2)\n",
    "# df3.head(25)"
   ]
  },
  {
   "cell_type": "markdown",
   "id": "621bc598",
   "metadata": {},
   "source": [
    "### getters"
   ]
  },
  {
   "cell_type": "code",
   "execution_count": 5,
   "id": "5fd836d4",
   "metadata": {},
   "outputs": [
    {
     "name": "stdout",
     "output_type": "stream",
     "text": [
      "['/home/mezquitap/stardist_dataset/images_resampled_sophie/KAKU4-wt--CRWN1-wt--CRWN4-wt_Cot_J13_STD_FIXE_H258_M3_1_C0.tif', '/home/mezquitap/stardist_dataset/images_resampled_sophie/KAKU4-wt--CRWN1-wt--CRWN4-wt_Cot_J13_STD_FIXE_H258_T3_13_C0.tif', '/home/mezquitap/stardist_dataset/images_resampled_sophie/KAKU4-wt--CRWN1-wt--CRWN4-wt_Cot_J13_STD_FIXE_H258_X2_21_C0.tif', '/home/mezquitap/stardist_dataset/images_resampled_sophie/KAKU4-wt--CRWN1-wt--CRWN4-wt_Cot_J13_STD_FIXE_H258_U1_1_C0.tif', '/home/mezquitap/stardist_dataset/images_resampled_sophie/KAKU4-wt--CRWN1-wt--CRWN4-wt_Cot_J13_STD_FIXE_H258_M3_9_C0.tif', '/home/mezquitap/stardist_dataset/images_resampled_sophie/KAKU4-wt--CRWN1-wt--CRWN4-wt_Cot_J13_STD_FIXE_H258_X2_12_C0.tif', '/home/mezquitap/stardist_dataset/images_resampled_sophie/KAKU4-wt--CRWN1-wt--CRWN4-wt_Cot_J13_STD_FIXE_H258_T1_28_C0.tif', '/home/mezquitap/stardist_dataset/images_resampled_sophie/KAKU4-wt--CRWN1-wt--CRWN4-wt_Cot_J13_STD_FIXE_H258_M2_7_C0.tif', '/home/mezquitap/stardist_dataset/images_resampled_sophie/KAKU4-wt--CRWN1-wt--CRWN4-wt_Cot_J13_STD_FIXE_H258_Q3_0_C0.tif', '/home/mezquitap/stardist_dataset/images_resampled_sophie/KAKU4-wt--CRWN1-wt--CRWN4-wt_Cot_J13_STD_FIXE_H258_R2_19_C0.tif', '/home/mezquitap/stardist_dataset/images_resampled_sophie/KAKU4-wt--CRWN1-wt--CRWN4-wt_Cot_J13_STD_FIXE_H258_U1_5_C0.tif', '/home/mezquitap/stardist_dataset/images_resampled_sophie/KAKU4-wt--CRWN1-wt--CRWN4-wt_Cot_J13_STD_FIXE_H258_W1_2_C0.tif', '/home/mezquitap/stardist_dataset/images_resampled_sophie/KAKU4-wt--CRWN1-wt--CRWN4-wt_Cot_J13_STD_FIXE_H258_Q1_1_C0.tif', '/home/mezquitap/stardist_dataset/images_resampled_sophie/KAKU4-wt--CRWN1-wt--CRWN4-wt_Cot_J13_STD_FIXE_H258_W1_3_C0.tif', '/home/mezquitap/stardist_dataset/images_resampled_sophie/KAKU4-wt--CRWN1-wt--CRWN4-wt_Cot_J13_STD_FIXE_H258_M2_12_C0.tif', '/home/mezquitap/stardist_dataset/images_resampled_sophie/KAKU4-wt--CRWN1-wt--CRWN4-wt_Cot_J13_STD_FIXE_H258_V2_2_C0.tif', '/home/mezquitap/stardist_dataset/images_resampled_sophie/KAKU4-wt--CRWN1-wt--CRWN4-wt_Cot_J13_STD_FIXE_H258_R2_7_C0.tif', '/home/mezquitap/stardist_dataset/images_resampled_sophie/KAKU4-wt--CRWN1-wt--CRWN4-wt_Cot_J13_STD_FIXE_H258_N2_4_C0.tif', '/home/mezquitap/stardist_dataset/images_resampled_sophie/KAKU4-wt--CRWN1-wt--CRWN4-wt_Cot_J13_STD_FIXE_H258_S3_32_C0.tif', '/home/mezquitap/stardist_dataset/images_resampled_sophie/KAKU4-wt--CRWN1-wt--CRWN4-wt_Cot_J13_STD_FIXE_H258_W1_29_C0.tif', '/home/mezquitap/stardist_dataset/images_resampled_sophie/KAKU4-wt--CRWN1-wt--CRWN4-wt_Cot_J13_STD_FIXE_H258_W1_25_C0.tif', '/home/mezquitap/stardist_dataset/images_resampled_sophie/KAKU4-wt--CRWN1-wt--CRWN4-wt_Cot_J13_STD_FIXE_H258_R2_11_C0.tif', '/home/mezquitap/stardist_dataset/images_resampled_sophie/KAKU4-wt--CRWN1-wt--CRWN4-wt_Cot_J13_STD_FIXE_H258_R1_18_C0.tif', '/home/mezquitap/stardist_dataset/images_resampled_sophie/KAKU4-wt--CRWN1-wt--CRWN4-wt_Cot_J13_STD_FIXE_H258_R1_23_C0.tif', '/home/mezquitap/stardist_dataset/images_resampled_sophie/KAKU4-wt--CRWN1-wt--CRWN4-wt_Cot_J13_STD_FIXE_H258_S3_15_C0.tif', '/home/mezquitap/stardist_dataset/images_resampled_sophie/KAKU4-wt--CRWN1-wt--CRWN4-wt_Cot_J13_STD_FIXE_H258_U2_4_C0.tif', '/home/mezquitap/stardist_dataset/images_resampled_sophie/KAKU4-wt--CRWN1-wt--CRWN4-wt_Cot_J13_STD_FIXE_H258_N1_9_C0.tif', '/home/mezquitap/stardist_dataset/images_resampled_sophie/KAKU4-wt--CRWN1-wt--CRWN4-wt_Cot_J13_STD_FIXE_H258_R2_8_C0.tif', '/home/mezquitap/stardist_dataset/images_resampled_sophie/KAKU4-wt--CRWN1-wt--CRWN4-wt_Cot_J13_STD_FIXE_H258_U1_0_C0.tif', '/home/mezquitap/stardist_dataset/images_resampled_sophie/KAKU4-wt--CRWN1-wt--CRWN4-wt_Cot_J13_STD_FIXE_H258_S3_17_C0.tif', '/home/mezquitap/stardist_dataset/images_resampled_sophie/KAKU4-wt--CRWN1-wt--CRWN4-wt_Cot_J13_STD_FIXE_H258_W1_15_C0.tif', '/home/mezquitap/stardist_dataset/images_resampled_sophie/KAKU4-wt--CRWN1-wt--CRWN4-wt_Cot_J13_STD_FIXE_H258_W1_9_C0.tif', '/home/mezquitap/stardist_dataset/images_resampled_sophie/KAKU4-wt--CRWN1-wt--CRWN4-wt_Cot_J13_STD_FIXE_H258_M2_1_C0.tif', '/home/mezquitap/stardist_dataset/images_resampled_sophie/KAKU4-wt--CRWN1-wt--CRWN4-wt_Cot_J13_STD_FIXE_H258_T2_11_C0.tif', '/home/mezquitap/stardist_dataset/images_resampled_sophie/KAKU4-wt--CRWN1-wt--CRWN4-wt_Cot_J13_STD_FIXE_H258_N1_13_C0.tif', '/home/mezquitap/stardist_dataset/images_resampled_sophie/KAKU4-wt--CRWN1-wt--CRWN4-wt_Cot_J13_STD_FIXE_H258_V2_20_C0.tif', '/home/mezquitap/stardist_dataset/images_resampled_sophie/KAKU4-wt--CRWN1-wt--CRWN4-wt_Cot_J13_STD_FIXE_H258_O2_15_C0.tif', '/home/mezquitap/stardist_dataset/images_resampled_sophie/KAKU4-wt--CRWN1-wt--CRWN4-wt_Cot_J13_STD_FIXE_H258_R1_24_C0.tif', '/home/mezquitap/stardist_dataset/images_resampled_sophie/KAKU4-wt--CRWN1-wt--CRWN4-wt_Cot_J13_STD_FIXE_H258_X1_6_C0.tif', '/home/mezquitap/stardist_dataset/images_resampled_sophie/KAKU4-wt--CRWN1-wt--CRWN4-wt_Cot_J13_STD_FIXE_H258_X2_3_C0.tif', '/home/mezquitap/stardist_dataset/images_resampled_sophie/KAKU4-wt--CRWN1-wt--CRWN4-wt_Cot_J13_STD_FIXE_H258_R1_26_C0.tif', '/home/mezquitap/stardist_dataset/images_resampled_sophie/KAKU4-wt--CRWN1-wt--CRWN4-wt_Cot_J13_STD_FIXE_H258_T1_9_C0.tif', '/home/mezquitap/stardist_dataset/images_resampled_sophie/KAKU4-wt--CRWN1-wt--CRWN4-wt_Cot_J13_STD_FIXE_H258_M3_30_C0.tif', '/home/mezquitap/stardist_dataset/images_resampled_sophie/KAKU4-wt--CRWN1-wt--CRWN4-wt_Cot_J13_STD_FIXE_H258_P1_8_C0.tif', '/home/mezquitap/stardist_dataset/images_resampled_sophie/KAKU4-wt--CRWN1-wt--CRWN4-wt_Cot_J13_STD_FIXE_H258_N1_4_C0.tif', '/home/mezquitap/stardist_dataset/images_resampled_sophie/KAKU4-wt--CRWN1-wt--CRWN4-wt_Cot_J13_STD_FIXE_H258_R1_38_C0.tif', '/home/mezquitap/stardist_dataset/images_resampled_sophie/KAKU4-wt--CRWN1-wt--CRWN4-wt_Cot_J13_STD_FIXE_H258_S3_21_C0.tif', '/home/mezquitap/stardist_dataset/images_resampled_sophie/KAKU4-wt--CRWN1-wt--CRWN4-wt_Cot_J13_STD_FIXE_H258_N3_8_C0.tif', '/home/mezquitap/stardist_dataset/images_resampled_sophie/KAKU4-wt--CRWN1-wt--CRWN4-wt_Cot_J13_STD_FIXE_H258_X2_5_C0.tif', '/home/mezquitap/stardist_dataset/images_resampled_sophie/KAKU4-wt--CRWN1-wt--CRWN4-wt_Cot_J13_STD_FIXE_H258_M3_13_C0.tif', '/home/mezquitap/stardist_dataset/images_resampled_sophie/KAKU4-wt--CRWN1-wt--CRWN4-wt_Cot_J13_STD_FIXE_H258_R2_20_C0.tif', '/home/mezquitap/stardist_dataset/images_resampled_sophie/KAKU4-wt--CRWN1-wt--CRWN4-wt_Cot_J13_STD_FIXE_H258_V1_11_C0.tif', '/home/mezquitap/stardist_dataset/images_resampled_sophie/KAKU4-wt--CRWN1-wt--CRWN4-wt_Cot_J13_STD_FIXE_H258_W1_13_C0.tif', '/home/mezquitap/stardist_dataset/images_resampled_sophie/KAKU4-wt--CRWN1-wt--CRWN4-wt_Cot_J13_STD_FIXE_H258_S3_24_C0.tif', '/home/mezquitap/stardist_dataset/images_resampled_sophie/KAKU4-wt--CRWN1-wt--CRWN4-wt_Cot_J13_STD_FIXE_H258_R1_32_C0.tif', '/home/mezquitap/stardist_dataset/images_resampled_sophie/KAKU4-wt--CRWN1-wt--CRWN4-wt_Cot_J13_STD_FIXE_H258_W3_18_C0.tif', '/home/mezquitap/stardist_dataset/images_resampled_sophie/KAKU4-wt--CRWN1-wt--CRWN4-wt_Cot_J13_STD_FIXE_H258_X3_7_C0.tif']\n",
      "16\n"
     ]
    }
   ],
   "source": [
    "def get_fold_x(df, fold=0):\n",
    "    \"\"\"\n",
    "    Return the test set, the validation set and the training set\n",
    "    \"\"\"\n",
    "    test_set = np.array(df[df['fold_x']==0].iloc[:,0])\n",
    "    val_set = np.array(df[df['fold_x']==1].iloc[:,0])\n",
    "    if fold==0: # return the full train set\n",
    "        fold_set = np.array(df[df['fold_x']>1].iloc[:,0])\n",
    "    else:\n",
    "        fold_set = np.array(df[df['fold_x']==(fold+2)].iloc[:,0])\n",
    "    return test_set, val_set, fold_set\n",
    "\n",
    "(test_name, val_name, train_name) = get_fold_x(df, fold=0)\n",
    "\n",
    "\n",
    "def name_to_path_in_array(array, path):\n",
    "    new_array = []\n",
    "    for name in array:\n",
    "        new_array.append(path + name)\n",
    "    return new_array\n",
    "train = name_to_path_in_array(train_name, path_img)\n",
    "train_mask = name_to_path_in_array(train_name, path_mask)\n",
    "\n",
    "val = name_to_path_in_array(val_name, path_img)\n",
    "val_mask = name_to_path_in_array(val_name, path_mask)\n",
    "\n",
    "test = name_to_path_in_array(test_name, path_img)\n",
    "print(train)\n",
    "        \n",
    "\n",
    "\n",
    "def get_nb_fold(df):\n",
    "    \"\"\"\n",
    "    return the number of training folds.\n",
    "    \"\"\"\n",
    "    return np.max(df['fold_x'])-2\n",
    "print(get_nb_fold(df))"
   ]
  },
  {
   "cell_type": "code",
   "execution_count": null,
   "id": "df13b947",
   "metadata": {},
   "outputs": [],
   "source": [
    "# DATASET CELLPOSE"
   ]
  },
  {
   "cell_type": "code",
   "execution_count": 7,
   "id": "572cbab5",
   "metadata": {},
   "outputs": [],
   "source": [
    "import shutil\n",
    "import os"
   ]
  },
  {
   "cell_type": "code",
   "execution_count": 9,
   "id": "d964bb5a",
   "metadata": {},
   "outputs": [],
   "source": [
    "#path_train = \"C:\\\\Users\\\\mezquitap\\\\Documents\\\\Dataset\\\\dataset\\\\train\\\\\"\n",
    "#path_test = \"C:\\\\Users\\\\mezquitap\\\\Documents\\\\Dataset\\\\dataset\\\\test\\\\\"\n",
    "#path_val = \"C:\\\\Users\\\\mezquitap\\\\Documents\\\\Dataset\\\\dataset\\\\val\\\\\"\n",
    "#path_train_mask = \"C:\\\\Users\\\\mezquitap\\\\Documents\\\\Dataset\\\\dataset\\\\train_mask\\\\\"\n",
    "\n",
    "\n",
    "path_train = \"/home/mezquitap/train_test_val/train/\"\n",
    "path_val = \"/home/mezquitap/train_test_val/val/\"\n",
    "path_test = \"/home/mezquitap/train_test_val/test/\"\n",
    "\n",
    "\n",
    "\n",
    "#path_temp = \"/home/mezquitap/train_test_val/temp/\"\n",
    "\n",
    "\n",
    "\n",
    "def copy_files_from_dataset(array, array_name, new_path):\n",
    "    for i in range(len(array)):\n",
    "        shutil.copyfile(array[i], new_path + array_name[i])\n",
    "\n",
    "copy_files_from_dataset(train, train_name, path_train)\n",
    "copy_files_from_dataset(test, test_name, path_test)\n",
    "copy_files_from_dataset(val, val_name, path_val)\n",
    "#copy_files_from_dataset(train_mask, train_name, path_train_mask)\n"
   ]
  },
  {
   "cell_type": "code",
   "execution_count": 15,
   "id": "9f466c8c",
   "metadata": {},
   "outputs": [
    {
     "name": "stderr",
     "output_type": "stream",
     "text": [
      "/home/mezquitap/.conda/envs/stardist/lib/python3.6/site-packages/ipykernel_launcher.py:20: UserWarning: /home/mezquitap/train_test_val/temp/KAKU4-wt--CRWN1-wt--CRWN4-wt_Cot_J13_STD_FIXE_H258_S3_15_C0_masks.tif is a low contrast image\n",
      "/home/mezquitap/.conda/envs/stardist/lib/python3.6/site-packages/ipykernel_launcher.py:20: UserWarning: /home/mezquitap/train_test_val/temp/KAKU4-wt--CRWN1-wt--CRWN4-wt_Cot_J13_STD_FIXE_H258_W1_15_C0_masks.tif is a low contrast image\n"
     ]
    }
   ],
   "source": [
    "\n",
    "def rename_mask(array_mask):\n",
    "    array = []\n",
    "    for mask in array_mask:\n",
    "        a = mask[:mask.rfind('.')]\n",
    "        a = a + \"_masks.tif\"\n",
    "        array.append(a)\n",
    "    return array\n",
    "\n",
    "def rename_img(array_img):\n",
    "    array = []\n",
    "    for img in array_img:\n",
    "        a = img[:img.rfind('.')]\n",
    "        a = a + \"_img.tif\"\n",
    "        array.append(a)\n",
    "    return array\n",
    "\n",
    "def add_dimension(path, name):\n",
    "    image = io.imread(path+name)\n",
    "    image = np.expand_dims(image, 1)\n",
    "    io.imsave(path_temp + name, image)\n",
    "    \n",
    "def add_all_dimensions(path, array_name):\n",
    "    for name in array_name:\n",
    "        add_dimension(path, name)\n",
    "\n",
    "\n",
    "\n",
    "#name_masks_array = rename_mask(train_name)\n",
    "#all_masks_array = rename_mask(train_mask)\n",
    "\n",
    "#name_img_array = rename_img(train_name)\n",
    "#all_img_array = rename_img(train)\n",
    "\n",
    "#copy_files_from_dataset(train_mask, name_masks_array, path_train)\n",
    "#copy_files_from_dataset(train_mask, name_masks_array, path_train)\n",
    "#copy_files_from_dataset(train, name_img_array, path_train)\n",
    "\n",
    "#add_all_dimensions(path_train, name_masks_array)\n",
    "\n",
    "#img_cut = img[:img.rfind('.')]\n",
    "#img_cut"
   ]
  },
  {
   "cell_type": "code",
   "execution_count": 16,
   "id": "255264f8",
   "metadata": {},
   "outputs": [
    {
     "name": "stdout",
     "output_type": "stream",
     "text": [
      "(64, 1, 114, 118)\n"
     ]
    }
   ],
   "source": [
    "imgage = io.imread(path_temp+name_masks_array[1])\n",
    "print(imgage.shape)"
   ]
  },
  {
   "cell_type": "code",
   "execution_count": null,
   "id": "e7163fbf",
   "metadata": {},
   "outputs": [],
   "source": [
    "#DATASET STARDIST"
   ]
  },
  {
   "cell_type": "code",
   "execution_count": 48,
   "id": "5aacc2f2",
   "metadata": {},
   "outputs": [],
   "source": [
    "import shutil\n",
    "import os"
   ]
  },
  {
   "cell_type": "code",
   "execution_count": 10,
   "id": "82160438",
   "metadata": {},
   "outputs": [],
   "source": [
    "#path_train = \"C:\\\\Users\\\\mezquitap\\\\Documents\\\\Dataset\\\\dataset\\\\train\\\\\"\n",
    "#path_test = \"C:\\\\Users\\\\mezquitap\\\\Documents\\\\Dataset\\\\dataset\\\\test\\\\\"\n",
    "#path_val = \"C:\\\\Users\\\\mezquitap\\\\Documents\\\\Dataset\\\\dataset\\\\val\\\\\"\n",
    "#path_train_mask = \"C:\\\\Users\\\\mezquitap\\\\Documents\\\\Dataset\\\\dataset\\\\train_mask\\\\\"\n",
    "\n",
    "#path_train_img = \"/home/mezquitap/stardist_dataset/train/images/\"\n",
    "path_train_img = \"/home/mezquitap/stardist_dataset/resampled/train/img/\"\n",
    "#path_train_mask = \"/home/mezquitap/stardist_dataset/train/masks/\"\n",
    "path_train_mask = \"/home/mezquitap/stardist_dataset/resampled/train/msk/\"\n",
    "#path_val_img = \"/home/mezquitap/stardist_dataset/val/images/\"\n",
    "#path_val_mask = \"/home/mezquitap/stardist_dataset/val/masks/\"\n",
    "path_val_img = \"/home/mezquitap/stardist_dataset/resampled/val/img/\"\n",
    "path_val_mask = \"/home/mezquitap/stardist_dataset/resampled/val/msk\"\n",
    "#path_test = \"/home/mezquitap/stardist_dataset/test/\"\n",
    "path_test = \"/home/mezquitap/stardist_dataset/resampled/test/\"\n",
    "# path_all_img = \"/home/mezquitap/stardist_dataset/all/images/\"\n",
    "# path_all_masks = \"/home/mezquitap/stardist_dataset/all/masks/\"\n",
    "path_all_img = \"/home/mezquitap/stardist_dataset/images_resampled_sophie/\"\n",
    "path_all_masks = \"/home/mezquitap/stardist_dataset/masks_resampled_sophie/\"\n",
    "#path_temp = \"/home/mezquitap/stardist_dataset/temp/\"\n",
    "\n",
    "\n",
    "def copy_files_from_dataset(array, array_name, new_path):\n",
    "    for i in range(len(array)):\n",
    "        shutil.copyfile(array[i], new_path + array_name[i])\n",
    "\n",
    "#copy_files_from_dataset(train, train_name, path_train_img)\n",
    "#copy_files_from_dataset(test, test_name, path_test)\n",
    "#copy_files_from_dataset(val, val_name, path_val)\n",
    "#copy_files_from_dataset(train_mask, train_name, path_train_mask)\n",
    "\n",
    "copy_files_from_dataset(train, train_name, path_train_img)\n",
    "copy_files_from_dataset(test, test_name, path_test)\n",
    "copy_files_from_dataset(val, val_name, path_val_img)\n",
    "copy_files_from_dataset(train_mask, train_name, path_train_mask)\n",
    "copy_files_from_dataset(val_mask, val_name, path_val_mask)"
   ]
  },
  {
   "cell_type": "code",
   "execution_count": 51,
   "id": "cdbf1338",
   "metadata": {},
   "outputs": [
    {
     "ename": "NameError",
     "evalue": "name 'path_train_masks' is not defined",
     "output_type": "error",
     "traceback": [
      "\u001b[0;31m---------------------------------------------------------------------------\u001b[0m",
      "\u001b[0;31mNameError\u001b[0m                                 Traceback (most recent call last)",
      "\u001b[0;32m<ipython-input-51-7cf1153ac1fa>\u001b[0m in \u001b[0;36m<module>\u001b[0;34m\u001b[0m\n\u001b[1;32m      8\u001b[0m         \u001b[0madd_dimension\u001b[0m\u001b[0;34m(\u001b[0m\u001b[0mpath\u001b[0m\u001b[0;34m,\u001b[0m \u001b[0mname\u001b[0m\u001b[0;34m)\u001b[0m\u001b[0;34m\u001b[0m\u001b[0;34m\u001b[0m\u001b[0m\n\u001b[1;32m      9\u001b[0m \u001b[0;34m\u001b[0m\u001b[0m\n\u001b[0;32m---> 10\u001b[0;31m \u001b[0madd_all_dimensions\u001b[0m\u001b[0;34m(\u001b[0m\u001b[0mpath_train_masks\u001b[0m\u001b[0;34m,\u001b[0m\u001b[0mtrain_name\u001b[0m\u001b[0;34m)\u001b[0m\u001b[0;34m\u001b[0m\u001b[0;34m\u001b[0m\u001b[0m\n\u001b[0m",
      "\u001b[0;31mNameError\u001b[0m: name 'path_train_masks' is not defined"
     ]
    }
   ],
   "source": [
    "def add_dimension(path, name):\n",
    "    image = io.imread(path+name)\n",
    "    image = np.expand_dims(image, 1)\n",
    "    io.imsave(path_temp + name, image)\n",
    "    \n",
    "def add_all_dimensions(path, array_name):\n",
    "    for name in array_name:\n",
    "        add_dimension(path, name)\n",
    "        \n",
    "add_all_dimensions(path_train_masks,train_name)"
   ]
  },
  {
   "cell_type": "code",
   "execution_count": 39,
   "id": "58fca90b",
   "metadata": {},
   "outputs": [
    {
     "name": "stdout",
     "output_type": "stream",
     "text": [
      "(64, 114, 118)\n"
     ]
    }
   ],
   "source": [
    "imgage = io.imread(path_train_masks+train_name[1])\n",
    "print(imgage.shape)"
   ]
  },
  {
   "cell_type": "code",
   "execution_count": null,
   "id": "0b1dc3bc",
   "metadata": {},
   "outputs": [],
   "source": []
  }
 ],
 "metadata": {
  "kernelspec": {
   "display_name": "Python 3 (ipykernel)",
   "language": "python",
   "name": "python3"
  },
  "language_info": {
   "codemirror_mode": {
    "name": "ipython",
    "version": 3
   },
   "file_extension": ".py",
   "mimetype": "text/x-python",
   "name": "python",
   "nbconvert_exporter": "python",
   "pygments_lexer": "ipython3",
   "version": "3.8.13"
  }
 },
 "nbformat": 4,
 "nbformat_minor": 5
}
