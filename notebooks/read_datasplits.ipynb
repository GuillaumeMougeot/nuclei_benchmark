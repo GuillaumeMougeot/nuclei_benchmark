{
 "cells": [
  {
   "cell_type": "code",
   "execution_count": 1,
   "id": "575b8b2a",
   "metadata": {},
   "outputs": [],
   "source": [
    "import pandas as pd\n",
    "import os\n",
    "import numpy as np"
   ]
  },
  {
   "cell_type": "code",
   "execution_count": 14,
   "id": "16c0f961",
   "metadata": {},
   "outputs": [
    {
     "data": {
      "text/html": [
       "<div>\n",
       "<style scoped>\n",
       "    .dataframe tbody tr th:only-of-type {\n",
       "        vertical-align: middle;\n",
       "    }\n",
       "\n",
       "    .dataframe tbody tr th {\n",
       "        vertical-align: top;\n",
       "    }\n",
       "\n",
       "    .dataframe thead th {\n",
       "        text-align: right;\n",
       "    }\n",
       "</style>\n",
       "<table border=\"1\" class=\"dataframe\">\n",
       "  <thead>\n",
       "    <tr style=\"text-align: right;\">\n",
       "      <th></th>\n",
       "      <th>filename</th>\n",
       "      <th>fold_0</th>\n",
       "      <th>fold_x</th>\n",
       "    </tr>\n",
       "  </thead>\n",
       "  <tbody>\n",
       "    <tr>\n",
       "      <th>0</th>\n",
       "      <td>KAKU4-wt--CRWN1-wt--CRWN4-wt_Cot_J13_STD_FIXE_...</td>\n",
       "      <td>0</td>\n",
       "      <td>0</td>\n",
       "    </tr>\n",
       "    <tr>\n",
       "      <th>1</th>\n",
       "      <td>KAKU4-wt--CRWN1-wt--CRWN4-wt_Cot_J13_STD_FIXE_...</td>\n",
       "      <td>2</td>\n",
       "      <td>2</td>\n",
       "    </tr>\n",
       "    <tr>\n",
       "      <th>2</th>\n",
       "      <td>KAKU4-wt--CRWN1-wt--CRWN4-wt_Cot_J13_STD_FIXE_...</td>\n",
       "      <td>2</td>\n",
       "      <td>11</td>\n",
       "    </tr>\n",
       "    <tr>\n",
       "      <th>3</th>\n",
       "      <td>KAKU4-wt--CRWN1-wt--CRWN4-wt_Cot_J13_STD_FIXE_...</td>\n",
       "      <td>2</td>\n",
       "      <td>2</td>\n",
       "    </tr>\n",
       "    <tr>\n",
       "      <th>4</th>\n",
       "      <td>KAKU4-wt--CRWN1-wt--CRWN4-wt_Cot_J13_STD_FIXE_...</td>\n",
       "      <td>0</td>\n",
       "      <td>0</td>\n",
       "    </tr>\n",
       "  </tbody>\n",
       "</table>\n",
       "</div>"
      ],
      "text/plain": [
       "                                            filename  fold_0  fold_x\n",
       "0  KAKU4-wt--CRWN1-wt--CRWN4-wt_Cot_J13_STD_FIXE_...       0       0\n",
       "1  KAKU4-wt--CRWN1-wt--CRWN4-wt_Cot_J13_STD_FIXE_...       2       2\n",
       "2  KAKU4-wt--CRWN1-wt--CRWN4-wt_Cot_J13_STD_FIXE_...       2      11\n",
       "3  KAKU4-wt--CRWN1-wt--CRWN4-wt_Cot_J13_STD_FIXE_...       2       2\n",
       "4  KAKU4-wt--CRWN1-wt--CRWN4-wt_Cot_J13_STD_FIXE_...       0       0"
      ]
     },
     "execution_count": 14,
     "metadata": {},
     "output_type": "execute_result"
    }
   ],
   "source": [
    "#path_csv = \"/home/gumougeot/all/data/3d_nucleus/all_manual/folds_x_sophie.csv\"\n",
    "path_csv = \"C:\\\\Users\\\\mezquitap\\\\Documents\\\\nuclei_benchmark\\\\notebooks\\\\folds_x_sophie.csv\"\n",
    "path_img = \"C:\\\\Users\\\\mezquitap\\\\Documents\\\\Dataset\\\\dataset\\\\cellpose\\\\cyto\\\\\"\n",
    "df = pd.read_csv(path_csv)\n",
    "df.head()"
   ]
  },
  {
   "cell_type": "markdown",
   "id": "9818dfd2",
   "metadata": {},
   "source": [
    "### setters"
   ]
  },
  {
   "cell_type": "code",
   "execution_count": 7,
   "id": "08f1c49f",
   "metadata": {},
   "outputs": [
    {
     "name": "stdout",
     "output_type": "stream",
     "text": [
      "number of images in each fold: [28, 14, 1, 1, 1, 1, 1, 1, 1, 1, 1, 1, 1, 1, 1, 1, 1]\n"
     ]
    }
   ],
   "source": [
    "def set_fold_0(df, test_ratio=0.2, val_ratio=0.2, seed=42):\n",
    "    \"\"\"\n",
    "    define the test set and validation sets\n",
    "    add it to the df in 'fold_0'\n",
    "    {0: test, val: 1, train: 0}\n",
    "    \"\"\"\n",
    "    np.random.seed(seed)\n",
    "    l = np.array(df.iloc[:,0])\n",
    "    \n",
    "    # shuffle the list \n",
    "    permut = np.random.permutation(len(l))\n",
    "    inv_permut = np.argsort(permut)\n",
    "    # shuffled = l[permut] # shuffled contains the suffled list\n",
    "    \n",
    "    # split the shuffled list\n",
    "    test_split = int(len(l)*test_ratio)\n",
    "    val_split = int(len(l)*val_ratio)\n",
    "    train_split = len(l)-test_split-val_split\n",
    "    indices = np.array([0]*test_split+[1]*val_split+[2]*train_split)\n",
    "    \n",
    "    # unpermut the list of indice to get back the original\n",
    "    sort_indices = indices[inv_permut]\n",
    "    \n",
    "    # add columns\n",
    "    df['fold_0'] = sort_indices\n",
    "    return df\n",
    "\n",
    "df2 = set_fold_0(df)\n",
    "# print(df2.head(25))\n",
    "\n",
    "def set_fold_x(df, ratio=[0.5,0.25]):\n",
    "    \"\"\"\n",
    "    create a new column with 4 types:\n",
    "    {0: test, 1: val, 2->i: fold_1->(i-1)}\n",
    "    TODO function: the validation set is retrieved from column \"fold\", fold number 0.\n",
    "    params: \n",
    "     - nb_train_img: is the number of train images\n",
    "    \"\"\"\n",
    "    # get the fold_0 list\n",
    "    fold = np.array(df.fold_0)\n",
    "    train_size = sum(fold==2)\n",
    "    nb_imgs = [int(train_size*r) for r in ratio]\n",
    "    \n",
    "    # add the left overs\n",
    "    nb_imgs += [1]*(train_size-sum(nb_imgs))\n",
    "    print(\"number of images in each fold:\", nb_imgs)\n",
    "    \n",
    "    # indices\n",
    "    indices = []\n",
    "    for i,r in enumerate(nb_imgs):\n",
    "        indices += [i+2]*r\n",
    "    \n",
    "    # shuffle it \n",
    "    shuffle = np.random.permutation(indices)\n",
    "    \n",
    "    # replace the shuffle list in the original array where element==2\n",
    "    j = 0\n",
    "    for i in range(len(fold)):\n",
    "        if fold[i]==2:\n",
    "            fold[i]=shuffle[j]\n",
    "            j+=1\n",
    "    \n",
    "    # put it back in the dataframe\n",
    "    df['fold_x'] = fold\n",
    "    return(df)\n",
    "\n",
    "\n",
    "df3=set_fold_x(df=df2)\n",
    "# df3.head(25)"
   ]
  },
  {
   "cell_type": "markdown",
   "id": "25afb5d6",
   "metadata": {},
   "source": [
    "### getters"
   ]
  },
  {
   "cell_type": "code",
   "execution_count": 19,
   "id": "ae51751f",
   "metadata": {},
   "outputs": [
    {
     "name": "stdout",
     "output_type": "stream",
     "text": [
      "['C:\\\\Users\\\\mezquitap\\\\Documents\\\\Dataset\\\\dataset\\\\cellpose\\\\cyto\\\\KAKU4-wt--CRWN1-wt--CRWN4-wt_Cot_J13_STD_FIXE_H258_M3_1_C0.tif', 'C:\\\\Users\\\\mezquitap\\\\Documents\\\\Dataset\\\\dataset\\\\cellpose\\\\cyto\\\\KAKU4-wt--CRWN1-wt--CRWN4-wt_Cot_J13_STD_FIXE_H258_T3_13_C0.tif', 'C:\\\\Users\\\\mezquitap\\\\Documents\\\\Dataset\\\\dataset\\\\cellpose\\\\cyto\\\\KAKU4-wt--CRWN1-wt--CRWN4-wt_Cot_J13_STD_FIXE_H258_X2_21_C0.tif', 'C:\\\\Users\\\\mezquitap\\\\Documents\\\\Dataset\\\\dataset\\\\cellpose\\\\cyto\\\\KAKU4-wt--CRWN1-wt--CRWN4-wt_Cot_J13_STD_FIXE_H258_U1_1_C0.tif', 'C:\\\\Users\\\\mezquitap\\\\Documents\\\\Dataset\\\\dataset\\\\cellpose\\\\cyto\\\\KAKU4-wt--CRWN1-wt--CRWN4-wt_Cot_J13_STD_FIXE_H258_M3_9_C0.tif', 'C:\\\\Users\\\\mezquitap\\\\Documents\\\\Dataset\\\\dataset\\\\cellpose\\\\cyto\\\\KAKU4-wt--CRWN1-wt--CRWN4-wt_Cot_J13_STD_FIXE_H258_X2_12_C0.tif', 'C:\\\\Users\\\\mezquitap\\\\Documents\\\\Dataset\\\\dataset\\\\cellpose\\\\cyto\\\\KAKU4-wt--CRWN1-wt--CRWN4-wt_Cot_J13_STD_FIXE_H258_T1_28_C0.tif', 'C:\\\\Users\\\\mezquitap\\\\Documents\\\\Dataset\\\\dataset\\\\cellpose\\\\cyto\\\\KAKU4-wt--CRWN1-wt--CRWN4-wt_Cot_J13_STD_FIXE_H258_M2_7_C0.tif', 'C:\\\\Users\\\\mezquitap\\\\Documents\\\\Dataset\\\\dataset\\\\cellpose\\\\cyto\\\\KAKU4-wt--CRWN1-wt--CRWN4-wt_Cot_J13_STD_FIXE_H258_Q3_0_C0.tif', 'C:\\\\Users\\\\mezquitap\\\\Documents\\\\Dataset\\\\dataset\\\\cellpose\\\\cyto\\\\KAKU4-wt--CRWN1-wt--CRWN4-wt_Cot_J13_STD_FIXE_H258_R2_19_C0.tif', 'C:\\\\Users\\\\mezquitap\\\\Documents\\\\Dataset\\\\dataset\\\\cellpose\\\\cyto\\\\KAKU4-wt--CRWN1-wt--CRWN4-wt_Cot_J13_STD_FIXE_H258_U1_5_C0.tif', 'C:\\\\Users\\\\mezquitap\\\\Documents\\\\Dataset\\\\dataset\\\\cellpose\\\\cyto\\\\KAKU4-wt--CRWN1-wt--CRWN4-wt_Cot_J13_STD_FIXE_H258_W1_2_C0.tif', 'C:\\\\Users\\\\mezquitap\\\\Documents\\\\Dataset\\\\dataset\\\\cellpose\\\\cyto\\\\KAKU4-wt--CRWN1-wt--CRWN4-wt_Cot_J13_STD_FIXE_H258_Q1_1_C0.tif', 'C:\\\\Users\\\\mezquitap\\\\Documents\\\\Dataset\\\\dataset\\\\cellpose\\\\cyto\\\\KAKU4-wt--CRWN1-wt--CRWN4-wt_Cot_J13_STD_FIXE_H258_W1_3_C0.tif', 'C:\\\\Users\\\\mezquitap\\\\Documents\\\\Dataset\\\\dataset\\\\cellpose\\\\cyto\\\\KAKU4-wt--CRWN1-wt--CRWN4-wt_Cot_J13_STD_FIXE_H258_M2_12_C0.tif', 'C:\\\\Users\\\\mezquitap\\\\Documents\\\\Dataset\\\\dataset\\\\cellpose\\\\cyto\\\\KAKU4-wt--CRWN1-wt--CRWN4-wt_Cot_J13_STD_FIXE_H258_V2_2_C0.tif', 'C:\\\\Users\\\\mezquitap\\\\Documents\\\\Dataset\\\\dataset\\\\cellpose\\\\cyto\\\\KAKU4-wt--CRWN1-wt--CRWN4-wt_Cot_J13_STD_FIXE_H258_R2_7_C0.tif', 'C:\\\\Users\\\\mezquitap\\\\Documents\\\\Dataset\\\\dataset\\\\cellpose\\\\cyto\\\\KAKU4-wt--CRWN1-wt--CRWN4-wt_Cot_J13_STD_FIXE_H258_N2_4_C0.tif', 'C:\\\\Users\\\\mezquitap\\\\Documents\\\\Dataset\\\\dataset\\\\cellpose\\\\cyto\\\\KAKU4-wt--CRWN1-wt--CRWN4-wt_Cot_J13_STD_FIXE_H258_S3_32_C0.tif', 'C:\\\\Users\\\\mezquitap\\\\Documents\\\\Dataset\\\\dataset\\\\cellpose\\\\cyto\\\\KAKU4-wt--CRWN1-wt--CRWN4-wt_Cot_J13_STD_FIXE_H258_W1_29_C0.tif', 'C:\\\\Users\\\\mezquitap\\\\Documents\\\\Dataset\\\\dataset\\\\cellpose\\\\cyto\\\\KAKU4-wt--CRWN1-wt--CRWN4-wt_Cot_J13_STD_FIXE_H258_W1_25_C0.tif', 'C:\\\\Users\\\\mezquitap\\\\Documents\\\\Dataset\\\\dataset\\\\cellpose\\\\cyto\\\\KAKU4-wt--CRWN1-wt--CRWN4-wt_Cot_J13_STD_FIXE_H258_R2_11_C0.tif', 'C:\\\\Users\\\\mezquitap\\\\Documents\\\\Dataset\\\\dataset\\\\cellpose\\\\cyto\\\\KAKU4-wt--CRWN1-wt--CRWN4-wt_Cot_J13_STD_FIXE_H258_R1_18_C0.tif', 'C:\\\\Users\\\\mezquitap\\\\Documents\\\\Dataset\\\\dataset\\\\cellpose\\\\cyto\\\\KAKU4-wt--CRWN1-wt--CRWN4-wt_Cot_J13_STD_FIXE_H258_R1_23_C0.tif', 'C:\\\\Users\\\\mezquitap\\\\Documents\\\\Dataset\\\\dataset\\\\cellpose\\\\cyto\\\\KAKU4-wt--CRWN1-wt--CRWN4-wt_Cot_J13_STD_FIXE_H258_S3_15_C0.tif', 'C:\\\\Users\\\\mezquitap\\\\Documents\\\\Dataset\\\\dataset\\\\cellpose\\\\cyto\\\\KAKU4-wt--CRWN1-wt--CRWN4-wt_Cot_J13_STD_FIXE_H258_U2_4_C0.tif', 'C:\\\\Users\\\\mezquitap\\\\Documents\\\\Dataset\\\\dataset\\\\cellpose\\\\cyto\\\\KAKU4-wt--CRWN1-wt--CRWN4-wt_Cot_J13_STD_FIXE_H258_N1_9_C0.tif', 'C:\\\\Users\\\\mezquitap\\\\Documents\\\\Dataset\\\\dataset\\\\cellpose\\\\cyto\\\\KAKU4-wt--CRWN1-wt--CRWN4-wt_Cot_J13_STD_FIXE_H258_R2_8_C0.tif', 'C:\\\\Users\\\\mezquitap\\\\Documents\\\\Dataset\\\\dataset\\\\cellpose\\\\cyto\\\\KAKU4-wt--CRWN1-wt--CRWN4-wt_Cot_J13_STD_FIXE_H258_U1_0_C0.tif', 'C:\\\\Users\\\\mezquitap\\\\Documents\\\\Dataset\\\\dataset\\\\cellpose\\\\cyto\\\\KAKU4-wt--CRWN1-wt--CRWN4-wt_Cot_J13_STD_FIXE_H258_S3_17_C0.tif', 'C:\\\\Users\\\\mezquitap\\\\Documents\\\\Dataset\\\\dataset\\\\cellpose\\\\cyto\\\\KAKU4-wt--CRWN1-wt--CRWN4-wt_Cot_J13_STD_FIXE_H258_W1_15_C0.tif', 'C:\\\\Users\\\\mezquitap\\\\Documents\\\\Dataset\\\\dataset\\\\cellpose\\\\cyto\\\\KAKU4-wt--CRWN1-wt--CRWN4-wt_Cot_J13_STD_FIXE_H258_W1_9_C0.tif', 'C:\\\\Users\\\\mezquitap\\\\Documents\\\\Dataset\\\\dataset\\\\cellpose\\\\cyto\\\\KAKU4-wt--CRWN1-wt--CRWN4-wt_Cot_J13_STD_FIXE_H258_M2_1_C0.tif', 'C:\\\\Users\\\\mezquitap\\\\Documents\\\\Dataset\\\\dataset\\\\cellpose\\\\cyto\\\\KAKU4-wt--CRWN1-wt--CRWN4-wt_Cot_J13_STD_FIXE_H258_T2_11_C0.tif', 'C:\\\\Users\\\\mezquitap\\\\Documents\\\\Dataset\\\\dataset\\\\cellpose\\\\cyto\\\\KAKU4-wt--CRWN1-wt--CRWN4-wt_Cot_J13_STD_FIXE_H258_N1_13_C0.tif', 'C:\\\\Users\\\\mezquitap\\\\Documents\\\\Dataset\\\\dataset\\\\cellpose\\\\cyto\\\\KAKU4-wt--CRWN1-wt--CRWN4-wt_Cot_J13_STD_FIXE_H258_V2_20_C0.tif', 'C:\\\\Users\\\\mezquitap\\\\Documents\\\\Dataset\\\\dataset\\\\cellpose\\\\cyto\\\\KAKU4-wt--CRWN1-wt--CRWN4-wt_Cot_J13_STD_FIXE_H258_O2_15_C0.tif', 'C:\\\\Users\\\\mezquitap\\\\Documents\\\\Dataset\\\\dataset\\\\cellpose\\\\cyto\\\\KAKU4-wt--CRWN1-wt--CRWN4-wt_Cot_J13_STD_FIXE_H258_R1_24_C0.tif', 'C:\\\\Users\\\\mezquitap\\\\Documents\\\\Dataset\\\\dataset\\\\cellpose\\\\cyto\\\\KAKU4-wt--CRWN1-wt--CRWN4-wt_Cot_J13_STD_FIXE_H258_X1_6_C0.tif', 'C:\\\\Users\\\\mezquitap\\\\Documents\\\\Dataset\\\\dataset\\\\cellpose\\\\cyto\\\\KAKU4-wt--CRWN1-wt--CRWN4-wt_Cot_J13_STD_FIXE_H258_X2_3_C0.tif', 'C:\\\\Users\\\\mezquitap\\\\Documents\\\\Dataset\\\\dataset\\\\cellpose\\\\cyto\\\\KAKU4-wt--CRWN1-wt--CRWN4-wt_Cot_J13_STD_FIXE_H258_R1_26_C0.tif', 'C:\\\\Users\\\\mezquitap\\\\Documents\\\\Dataset\\\\dataset\\\\cellpose\\\\cyto\\\\KAKU4-wt--CRWN1-wt--CRWN4-wt_Cot_J13_STD_FIXE_H258_T1_9_C0.tif', 'C:\\\\Users\\\\mezquitap\\\\Documents\\\\Dataset\\\\dataset\\\\cellpose\\\\cyto\\\\KAKU4-wt--CRWN1-wt--CRWN4-wt_Cot_J13_STD_FIXE_H258_M3_30_C0.tif', 'C:\\\\Users\\\\mezquitap\\\\Documents\\\\Dataset\\\\dataset\\\\cellpose\\\\cyto\\\\KAKU4-wt--CRWN1-wt--CRWN4-wt_Cot_J13_STD_FIXE_H258_P1_8_C0.tif', 'C:\\\\Users\\\\mezquitap\\\\Documents\\\\Dataset\\\\dataset\\\\cellpose\\\\cyto\\\\KAKU4-wt--CRWN1-wt--CRWN4-wt_Cot_J13_STD_FIXE_H258_N1_4_C0.tif', 'C:\\\\Users\\\\mezquitap\\\\Documents\\\\Dataset\\\\dataset\\\\cellpose\\\\cyto\\\\KAKU4-wt--CRWN1-wt--CRWN4-wt_Cot_J13_STD_FIXE_H258_R1_38_C0.tif', 'C:\\\\Users\\\\mezquitap\\\\Documents\\\\Dataset\\\\dataset\\\\cellpose\\\\cyto\\\\KAKU4-wt--CRWN1-wt--CRWN4-wt_Cot_J13_STD_FIXE_H258_S3_21_C0.tif', 'C:\\\\Users\\\\mezquitap\\\\Documents\\\\Dataset\\\\dataset\\\\cellpose\\\\cyto\\\\KAKU4-wt--CRWN1-wt--CRWN4-wt_Cot_J13_STD_FIXE_H258_N3_8_C0.tif', 'C:\\\\Users\\\\mezquitap\\\\Documents\\\\Dataset\\\\dataset\\\\cellpose\\\\cyto\\\\KAKU4-wt--CRWN1-wt--CRWN4-wt_Cot_J13_STD_FIXE_H258_X2_5_C0.tif', 'C:\\\\Users\\\\mezquitap\\\\Documents\\\\Dataset\\\\dataset\\\\cellpose\\\\cyto\\\\KAKU4-wt--CRWN1-wt--CRWN4-wt_Cot_J13_STD_FIXE_H258_M3_13_C0.tif', 'C:\\\\Users\\\\mezquitap\\\\Documents\\\\Dataset\\\\dataset\\\\cellpose\\\\cyto\\\\KAKU4-wt--CRWN1-wt--CRWN4-wt_Cot_J13_STD_FIXE_H258_R2_20_C0.tif', 'C:\\\\Users\\\\mezquitap\\\\Documents\\\\Dataset\\\\dataset\\\\cellpose\\\\cyto\\\\KAKU4-wt--CRWN1-wt--CRWN4-wt_Cot_J13_STD_FIXE_H258_V1_11_C0.tif', 'C:\\\\Users\\\\mezquitap\\\\Documents\\\\Dataset\\\\dataset\\\\cellpose\\\\cyto\\\\KAKU4-wt--CRWN1-wt--CRWN4-wt_Cot_J13_STD_FIXE_H258_W1_13_C0.tif', 'C:\\\\Users\\\\mezquitap\\\\Documents\\\\Dataset\\\\dataset\\\\cellpose\\\\cyto\\\\KAKU4-wt--CRWN1-wt--CRWN4-wt_Cot_J13_STD_FIXE_H258_S3_24_C0.tif', 'C:\\\\Users\\\\mezquitap\\\\Documents\\\\Dataset\\\\dataset\\\\cellpose\\\\cyto\\\\KAKU4-wt--CRWN1-wt--CRWN4-wt_Cot_J13_STD_FIXE_H258_R1_32_C0.tif', 'C:\\\\Users\\\\mezquitap\\\\Documents\\\\Dataset\\\\dataset\\\\cellpose\\\\cyto\\\\KAKU4-wt--CRWN1-wt--CRWN4-wt_Cot_J13_STD_FIXE_H258_W3_18_C0.tif', 'C:\\\\Users\\\\mezquitap\\\\Documents\\\\Dataset\\\\dataset\\\\cellpose\\\\cyto\\\\KAKU4-wt--CRWN1-wt--CRWN4-wt_Cot_J13_STD_FIXE_H258_X3_7_C0.tif']\n",
      "16\n"
     ]
    }
   ],
   "source": [
    "def get_fold_x(df, fold=0):\n",
    "    \"\"\"\n",
    "    Return the test set, the validation set and the training set\n",
    "    \"\"\"\n",
    "    test_set = np.array(df[df['fold_x']==0].iloc[:,0])\n",
    "    val_set = np.array(df[df['fold_x']==1].iloc[:,0])\n",
    "    if fold==0: # return the full train set\n",
    "        fold_set = np.array(df[df['fold_x']>1].iloc[:,0])\n",
    "    else:\n",
    "        fold_set = np.array(df[df['fold_x']==(fold+2)].iloc[:,0])\n",
    "    return test_set, val_set, fold_set\n",
    "\n",
    "(test_name, val_name, train_name) = get_fold_x(df, fold=0)\n",
    "\n",
    "\n",
    "def name_to_path_in_array(array, path):\n",
    "    new_array = []\n",
    "    for name in array:\n",
    "        new_array.append(path + name)\n",
    "    return new_array\n",
    "train = name_to_path_in_array(train_name, path_img)\n",
    "val = name_to_path_in_array(val_name, path_img)\n",
    "test = name_to_path_in_array(test_name, path_img)\n",
    "print(train)\n",
    "        \n",
    "\n",
    "\n",
    "def get_nb_fold(df):\n",
    "    \"\"\"\n",
    "    return the number of training folds.\n",
    "    \"\"\"\n",
    "    return np.max(df['fold_x'])-2\n",
    "print(get_nb_fold(df))"
   ]
  },
  {
   "cell_type": "code",
   "execution_count": 20,
   "id": "4ecab8f8",
   "metadata": {},
   "outputs": [],
   "source": [
    "import shutil"
   ]
  },
  {
   "cell_type": "code",
   "execution_count": 25,
   "id": "721bdebe",
   "metadata": {},
   "outputs": [],
   "source": [
    "path_train = \"C:\\\\Users\\\\mezquitap\\\\Documents\\\\Dataset\\\\dataset\\\\train\\\\\"\n",
    "path_test = \"C:\\\\Users\\\\mezquitap\\\\Documents\\\\Dataset\\\\dataset\\\\test\\\\\"\n",
    "path_val = \"C:\\\\Users\\\\mezquitap\\\\Documents\\\\Dataset\\\\dataset\\\\val\\\\\"\n",
    "\n",
    "def copy_files_from_dataset(array, array_name, new_path):\n",
    "    for i in range(len(array)):\n",
    "        shutil.copyfile(array[i], new_path + array_name[i])\n",
    "\n",
    "copy_files_from_dataset(train, train_name, path_train)\n",
    "copy_files_from_dataset(test, test_name, path_test)\n",
    "copy_files_from_dataset(val, val_name, path_val)\n"
   ]
  }
 ],
 "metadata": {
  "kernelspec": {
   "display_name": "Python 3 (ipykernel)",
   "language": "python",
   "name": "python3"
  },
  "language_info": {
   "codemirror_mode": {
    "name": "ipython",
    "version": 3
   },
   "file_extension": ".py",
   "mimetype": "text/x-python",
   "name": "python",
   "nbconvert_exporter": "python",
   "pygments_lexer": "ipython3",
   "version": "3.9.11"
  }
 },
 "nbformat": 4,
 "nbformat_minor": 5
}
